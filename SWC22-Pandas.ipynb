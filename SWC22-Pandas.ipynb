{
 "cells": [
  {
   "cell_type": "markdown",
   "id": "a3b64bde",
   "metadata": {},
   "source": [
    "# Manipulating Data With Pandas <img src=\"images/SWC22-Pandas.PythonPandasLogo.jpg\" align = \"right\" width=200 height=200/>\n",
    "- Pandas is a data analysis library built on top of NumPy.\n",
    "- Pandas provides data structures and operations for manipulating data using DataFrames\n",
    "- DataFrames are multidimensional arrays with attached row and column labels.\n",
    "- DataFrames can include heterogeneous types and/or missing data.\n",
    "- Pandas also provides functions for handling data in a similar fashion to database frameworks and spreadsheet programs.\n",
    "\n"
   ]
  },
  {
   "cell_type": "code",
   "execution_count": 32,
   "id": "fb5799a3",
   "metadata": {},
   "outputs": [
    {
     "name": "stdout",
     "output_type": "stream",
     "text": [
      "Pandas version is 1.4.2\n"
     ]
    }
   ],
   "source": [
    "# use NumPy and Pandas\n",
    "import numpy as np\n",
    "import pandas as pd\n",
    "print(\"Pandas version is\", pd.__version__)"
   ]
  },
  {
   "attachments": {},
   "cell_type": "markdown",
   "id": "0a934cef",
   "metadata": {},
   "source": [
    "# The Series Object\n",
    "- A Pandas **Series** is a one-dimensional array of indexed data. It can be created from a list or array.\n",
    "    - A Series wraps both a sequence of values and a sequence of indices, which can be used to access with the values and index attributes.\n",
    "    - The values are simply a familiar NumPy array\n"
   ]
  },
  {
   "cell_type": "code",
   "execution_count": 34,
   "id": "baad3262",
   "metadata": {},
   "outputs": [
    {
     "name": "stdout",
     "output_type": "stream",
     "text": [
      "a    0.52\n",
      "b    0.80\n",
      "c    0.63\n",
      "d    4.00\n",
      "dtype: float64\n",
      "\n",
      "[0.52 0.8  0.63 4.  ]\n"
     ]
    }
   ],
   "source": [
    "atad = pd.Series([0.52, 0.8, 0.63, 4.0], index = ['a', 'b', 'c', 'd'])\n",
    "print(atad)\n",
    "print()\n",
    "print(atad.values)"
   ]
  },
  {
   "attachments": {},
   "cell_type": "markdown",
   "id": "e7501248",
   "metadata": {},
   "source": [
    "# The Series Index\n",
    "- The Series index is an array-like object of type pd.Index\n",
    "    - Like with a NumPy array, data can be accessed by the associated index using square-bracket notation\n",
    "    - The Pandas Series is much more general and flexible than the one-dimensional NumPy array that it emulates.\n"
   ]
  },
  {
   "cell_type": "code",
   "execution_count": 37,
   "id": "75b5e4fe",
   "metadata": {
    "scrolled": true
   },
   "outputs": [
    {
     "data": {
      "text/plain": [
       "0    0.25\n",
       "1    0.50\n",
       "2    0.75\n",
       "3    1.00\n",
       "dtype: float64"
      ]
     },
     "execution_count": 37,
     "metadata": {},
     "output_type": "execute_result"
    }
   ],
   "source": [
    "data = pd.Series([0.25, 0.5, 0.75, 1.0])\n",
    "data"
   ]
  },
  {
   "cell_type": "code",
   "execution_count": 41,
   "id": "5adc6365",
   "metadata": {},
   "outputs": [
    {
     "data": {
      "text/plain": [
       "RangeIndex(start=0, stop=4, step=1)"
      ]
     },
     "execution_count": 41,
     "metadata": {},
     "output_type": "execute_result"
    }
   ],
   "source": [
    "#index of the data series\n",
    "data.index"
   ]
  },
  {
   "cell_type": "code",
   "execution_count": 42,
   "id": "90357fa3",
   "metadata": {},
   "outputs": [
    {
     "data": {
      "text/plain": [
       "0.5"
      ]
     },
     "execution_count": 42,
     "metadata": {},
     "output_type": "execute_result"
    }
   ],
   "source": [
    "#the element at index 1\n",
    "data[1]"
   ]
  },
  {
   "cell_type": "code",
   "execution_count": 48,
   "id": "220f64f8",
   "metadata": {},
   "outputs": [
    {
     "data": {
      "text/plain": [
       "1    0.50\n",
       "2    0.75\n",
       "dtype: float64"
      ]
     },
     "execution_count": 48,
     "metadata": {},
     "output_type": "execute_result"
    }
   ],
   "source": [
    "#a slice of a series (start:stop)\n",
    "data[1:3]"
   ]
  },
  {
   "attachments": {},
   "cell_type": "markdown",
   "id": "94b2f81e",
   "metadata": {},
   "source": [
    "# Python Dictionaries and Pandas Series\n",
    "- A Pandas Series is similar to a specialized Python dictionary. \n",
    "    - A dictionary maps arbitrary keys to a set of arbitrary values; a Series maps typed keys to a set of typed values.\n",
    "    - The type information of a Pandas Series is much more efficient than Python dictionaries for certain operations.\n",
    "- Construct a Series object directly from a Python dictionary:\n"
   ]
  },
  {
   "cell_type": "code",
   "execution_count": 49,
   "id": "e87d537d",
   "metadata": {},
   "outputs": [
    {
     "data": {
      "text/plain": [
       "{'California': 38332521,\n",
       " 'Texas': 26448193,\n",
       " 'New York': 19651127,\n",
       " 'Florida': 19552860,\n",
       " 'Illinois': 12882135}"
      ]
     },
     "execution_count": 49,
     "metadata": {},
     "output_type": "execute_result"
    }
   ],
   "source": [
    "#create a dictionary of key:value pairs\n",
    "population_dict = {'California': 38332521,\n",
    "                   'Texas': 26448193,\n",
    "                   'New York': 19651127,\n",
    "                   'Florida': 19552860,\n",
    "                   'Illinois': 12882135}\n",
    "population_dict"
   ]
  },
  {
   "cell_type": "code",
   "execution_count": 50,
   "id": "9eac9217",
   "metadata": {},
   "outputs": [
    {
     "data": {
      "text/plain": [
       "California    38332521\n",
       "Texas         26448193\n",
       "New York      19651127\n",
       "Florida       19552860\n",
       "Illinois      12882135\n",
       "dtype: int64"
      ]
     },
     "execution_count": 50,
     "metadata": {},
     "output_type": "execute_result"
    }
   ],
   "source": [
    "#create a Pandas series from a Python dictionary\n",
    "population = pd.Series(population_dict)\n",
    "population"
   ]
  },
  {
   "cell_type": "code",
   "execution_count": 51,
   "id": "57c22831",
   "metadata": {},
   "outputs": [
    {
     "name": "stdout",
     "output_type": "stream",
     "text": [
      "Dictionary:\n",
      "{'California': 38332521, 'Texas': 26448193, 'New York': 19651127, 'Florida': 19552860, 'Illinois': 12882135}\n",
      "\n",
      "Series:\n",
      "California    38332521\n",
      "Texas         26448193\n",
      "New York      19651127\n",
      "Florida       19552860\n",
      "Illinois      12882135\n",
      "dtype: int64\n"
     ]
    }
   ],
   "source": [
    "#notice the difference between printing the Python dictionary and printing the Pandas Series\n",
    "#there is an implied for:each loop to print each element on a separate line.\n",
    "print(\"Dictionary:\")\n",
    "print(population_dict)\n",
    "print(\"\\nSeries:\")\n",
    "print(population)\n"
   ]
  },
  {
   "attachments": {},
   "cell_type": "markdown",
   "id": "34bcc539",
   "metadata": {},
   "source": [
    "# Python Dictionaries and Pandas Series\n",
    "- Dictionary-style item access can be used with a Series:\n",
    "\n"
   ]
  },
  {
   "cell_type": "code",
   "execution_count": 55,
   "id": "bb5c2da4",
   "metadata": {},
   "outputs": [
    {
     "data": {
      "text/plain": [
       "38332521"
      ]
     },
     "execution_count": 55,
     "metadata": {},
     "output_type": "execute_result"
    }
   ],
   "source": [
    "population['California']"
   ]
  },
  {
   "cell_type": "markdown",
   "id": "39650e2f",
   "metadata": {},
   "source": [
    "- Unlike a dictionary, the Series also supports Numpy array-style operations such as slicing:"
   ]
  },
  {
   "cell_type": "code",
   "execution_count": 56,
   "id": "de1c2bf9",
   "metadata": {},
   "outputs": [
    {
     "data": {
      "text/plain": [
       "California    38332521\n",
       "Texas         26448193\n",
       "New York      19651127\n",
       "dtype: int64"
      ]
     },
     "execution_count": 56,
     "metadata": {},
     "output_type": "execute_result"
    }
   ],
   "source": [
    "population['California':'New York']"
   ]
  },
  {
   "attachments": {},
   "cell_type": "markdown",
   "id": "a74ae7b6",
   "metadata": {},
   "source": [
    "# Creating a Series\n",
    "- Creating a Series is almost always some form of\n",
    "            pd.Series(data, index = index)\n",
    "- where index is an optional argument, and data can be one of many entities (e.g., list, dictionary, Numpy array)."
   ]
  },
  {
   "cell_type": "code",
   "execution_count": 57,
   "id": "e789129e",
   "metadata": {},
   "outputs": [
    {
     "data": {
      "text/plain": [
       "0    2\n",
       "1    4\n",
       "2    6\n",
       "dtype: int64"
      ]
     },
     "execution_count": 57,
     "metadata": {},
     "output_type": "execute_result"
    }
   ],
   "source": [
    "# simple scalar series\n",
    "pd.Series([2, 4, 6])"
   ]
  },
  {
   "cell_type": "code",
   "execution_count": 59,
   "id": "c957cedf",
   "metadata": {},
   "outputs": [
    {
     "data": {
      "text/plain": [
       "100    5\n",
       "200    5\n",
       "300    5\n",
       "dtype: int64"
      ]
     },
     "execution_count": 59,
     "metadata": {},
     "output_type": "execute_result"
    }
   ],
   "source": [
    "# scalar series, fill with 5's and specify index\n",
    "pd.Series(5, index=[100, 200, 300])"
   ]
  },
  {
   "cell_type": "code",
   "execution_count": 30,
   "id": "edbc5e94",
   "metadata": {},
   "outputs": [
    {
     "name": "stdout",
     "output_type": "stream",
     "text": [
      "2    a\n",
      "1    b\n",
      "3    c\n",
      "dtype: object\n"
     ]
    }
   ],
   "source": [
    "# simple dictionary-based series\n",
    "pd.Series({2:'a', 1:'b', 3:'c'})"
   ]
  },
  {
   "cell_type": "code",
   "execution_count": 31,
   "id": "68d424b0",
   "metadata": {},
   "outputs": [
    {
     "name": "stdout",
     "output_type": "stream",
     "text": [
      "3    c\n",
      "2    a\n",
      "dtype: object\n"
     ]
    }
   ],
   "source": [
    "# populate using only specified keys (by index)\n",
    "print(pd.Series({2:'a', 1:'b', 3:'c'}, index=[3, 2]))"
   ]
  },
  {
   "attachments": {},
   "cell_type": "markdown",
   "id": "40633105",
   "metadata": {},
   "source": [
    "# DataFrames\n",
    "- The DataFrame can also be thought of either as a generalization of a NumPy array, or as a specialization of a Python dictionary.\n",
    "- A DataFrame is comparable to a two-dimensional array with both flexible row indices and flexible column names. \n",
    "- Just as you might think of a two-dimensional array as an ordered sequence of aligned one-dimensional columns, you can think of a DataFrame as a sequence of aligned Series objects.\n",
    "\n"
   ]
  },
  {
   "cell_type": "markdown",
   "id": "cafe530b",
   "metadata": {},
   "source": [
    "### Construct a new area Series which parallels the population Series created earlier, then create a two-dimensional DataFrame using those objects"
   ]
  },
  {
   "cell_type": "code",
   "execution_count": 63,
   "id": "1671cc4e",
   "metadata": {},
   "outputs": [],
   "source": [
    "#recall the population_dict from above\n",
    "population_dict = {'California': 38332521,\n",
    "                   'Texas': 26448193,\n",
    "                   'New York': 19651127,\n",
    "                   'Florida': 19552860,\n",
    "                   'Illinois': 12882135}"
   ]
  },
  {
   "cell_type": "code",
   "execution_count": 66,
   "id": "faab9424",
   "metadata": {},
   "outputs": [
    {
     "data": {
      "text/plain": [
       "California    38332521\n",
       "Texas         26448193\n",
       "New York      19651127\n",
       "Florida       19552860\n",
       "Illinois      12882135\n",
       "dtype: int64"
      ]
     },
     "execution_count": 66,
     "metadata": {},
     "output_type": "execute_result"
    }
   ],
   "source": [
    "#and the Pandas Series created from that dictionary\n",
    "population = pd.Series(population_dict)\n",
    "population"
   ]
  },
  {
   "cell_type": "code",
   "execution_count": 65,
   "id": "83b7a695",
   "metadata": {},
   "outputs": [],
   "source": [
    "#create a new area dictionary for the same states\n",
    "area_dict = {'California': 423967,\n",
    "             'Texas': 695662,\n",
    "             'New York': 141297,\n",
    "             'Florida': 170312, \n",
    "             'Illinois': 149995}"
   ]
  },
  {
   "cell_type": "code",
   "execution_count": 67,
   "id": "47079fc0",
   "metadata": {},
   "outputs": [
    {
     "data": {
      "text/plain": [
       "California    423967\n",
       "Texas         695662\n",
       "New York      141297\n",
       "Florida       170312\n",
       "Illinois      149995\n",
       "dtype: int64"
      ]
     },
     "execution_count": 67,
     "metadata": {},
     "output_type": "execute_result"
    }
   ],
   "source": [
    "#create a Pandas Series from the area dictionary\n",
    "area = pd.Series(area_dict)\n",
    "area"
   ]
  },
  {
   "cell_type": "code",
   "execution_count": 69,
   "id": "9432897d",
   "metadata": {},
   "outputs": [
    {
     "data": {
      "text/html": [
       "<div>\n",
       "<style scoped>\n",
       "    .dataframe tbody tr th:only-of-type {\n",
       "        vertical-align: middle;\n",
       "    }\n",
       "\n",
       "    .dataframe tbody tr th {\n",
       "        vertical-align: top;\n",
       "    }\n",
       "\n",
       "    .dataframe thead th {\n",
       "        text-align: right;\n",
       "    }\n",
       "</style>\n",
       "<table border=\"1\" class=\"dataframe\">\n",
       "  <thead>\n",
       "    <tr style=\"text-align: right;\">\n",
       "      <th></th>\n",
       "      <th>population</th>\n",
       "      <th>area</th>\n",
       "    </tr>\n",
       "  </thead>\n",
       "  <tbody>\n",
       "    <tr>\n",
       "      <th>California</th>\n",
       "      <td>38332521</td>\n",
       "      <td>423967</td>\n",
       "    </tr>\n",
       "    <tr>\n",
       "      <th>Texas</th>\n",
       "      <td>26448193</td>\n",
       "      <td>695662</td>\n",
       "    </tr>\n",
       "    <tr>\n",
       "      <th>New York</th>\n",
       "      <td>19651127</td>\n",
       "      <td>141297</td>\n",
       "    </tr>\n",
       "    <tr>\n",
       "      <th>Florida</th>\n",
       "      <td>19552860</td>\n",
       "      <td>170312</td>\n",
       "    </tr>\n",
       "    <tr>\n",
       "      <th>Illinois</th>\n",
       "      <td>12882135</td>\n",
       "      <td>149995</td>\n",
       "    </tr>\n",
       "  </tbody>\n",
       "</table>\n",
       "</div>"
      ],
      "text/plain": [
       "            population    area\n",
       "California    38332521  423967\n",
       "Texas         26448193  695662\n",
       "New York      19651127  141297\n",
       "Florida       19552860  170312\n",
       "Illinois      12882135  149995"
      ]
     },
     "execution_count": 69,
     "metadata": {},
     "output_type": "execute_result"
    }
   ],
   "source": [
    "#create a DataFrame from the two Series\n",
    "states = pd.DataFrame({'population': population,\n",
    "                       'area': area})\n",
    "states"
   ]
  },
  {
   "cell_type": "markdown",
   "id": "ac360de2",
   "metadata": {},
   "source": [
    "### DataFrame attributes\n",
    "\n",
    "- DataFrames have an index and a column attribute"
   ]
  },
  {
   "cell_type": "code",
   "execution_count": 75,
   "id": "a0c9ed07",
   "metadata": {},
   "outputs": [
    {
     "data": {
      "text/plain": [
       "Index(['California', 'Texas', 'New York', 'Florida', 'Illinois'], dtype='object')"
      ]
     },
     "execution_count": 75,
     "metadata": {},
     "output_type": "execute_result"
    }
   ],
   "source": [
    "#index refers to the row headings\n",
    "states.index"
   ]
  },
  {
   "cell_type": "code",
   "execution_count": 74,
   "id": "c3b1be79",
   "metadata": {},
   "outputs": [
    {
     "data": {
      "text/plain": [
       "Index(['population', 'area'], dtype='object')"
      ]
     },
     "execution_count": 74,
     "metadata": {},
     "output_type": "execute_result"
    }
   ],
   "source": [
    "states.columns"
   ]
  },
  {
   "cell_type": "code",
   "execution_count": 73,
   "id": "5d6d99a9",
   "metadata": {},
   "outputs": [
    {
     "data": {
      "text/plain": [
       "California    423967\n",
       "Texas         695662\n",
       "New York      141297\n",
       "Florida       170312\n",
       "Illinois      149995\n",
       "Name: area, dtype: int64"
      ]
     },
     "execution_count": 73,
     "metadata": {},
     "output_type": "execute_result"
    }
   ],
   "source": [
    "#DataFrames use colum values as indices to a series\n",
    "states['area']"
   ]
  },
  {
   "cell_type": "code",
   "execution_count": 76,
   "id": "380da564",
   "metadata": {},
   "outputs": [],
   "source": [
    "### A DataFrame from a list of Dictionaries"
   ]
  },
  {
   "cell_type": "code",
   "execution_count": 77,
   "id": "d8193cdc",
   "metadata": {},
   "outputs": [
    {
     "data": {
      "text/plain": [
       "[{'a': 0, 'b': 0}, {'a': 1, 'b': 2}, {'a': 2, 'b': 4}]"
      ]
     },
     "execution_count": 77,
     "metadata": {},
     "output_type": "execute_result"
    }
   ],
   "source": [
    "data = [{'a': i, 'b': 2 * i}\n",
    "        for i in range(3)]\n",
    "data\n",
    "\n"
   ]
  },
  {
   "cell_type": "code",
   "execution_count": 78,
   "id": "dbb796e8",
   "metadata": {},
   "outputs": [
    {
     "data": {
      "text/html": [
       "<div>\n",
       "<style scoped>\n",
       "    .dataframe tbody tr th:only-of-type {\n",
       "        vertical-align: middle;\n",
       "    }\n",
       "\n",
       "    .dataframe tbody tr th {\n",
       "        vertical-align: top;\n",
       "    }\n",
       "\n",
       "    .dataframe thead th {\n",
       "        text-align: right;\n",
       "    }\n",
       "</style>\n",
       "<table border=\"1\" class=\"dataframe\">\n",
       "  <thead>\n",
       "    <tr style=\"text-align: right;\">\n",
       "      <th></th>\n",
       "      <th>a</th>\n",
       "      <th>b</th>\n",
       "    </tr>\n",
       "  </thead>\n",
       "  <tbody>\n",
       "    <tr>\n",
       "      <th>0</th>\n",
       "      <td>0</td>\n",
       "      <td>0</td>\n",
       "    </tr>\n",
       "    <tr>\n",
       "      <th>1</th>\n",
       "      <td>1</td>\n",
       "      <td>2</td>\n",
       "    </tr>\n",
       "    <tr>\n",
       "      <th>2</th>\n",
       "      <td>2</td>\n",
       "      <td>4</td>\n",
       "    </tr>\n",
       "  </tbody>\n",
       "</table>\n",
       "</div>"
      ],
      "text/plain": [
       "   a  b\n",
       "0  0  0\n",
       "1  1  2\n",
       "2  2  4"
      ]
     },
     "execution_count": 78,
     "metadata": {},
     "output_type": "execute_result"
    }
   ],
   "source": [
    "pd.DataFrame(data)"
   ]
  },
  {
   "cell_type": "code",
   "execution_count": null,
   "id": "caad03d3",
   "metadata": {},
   "outputs": [],
   "source": [
    "#start on Slide 14"
   ]
  }
 ],
 "metadata": {
  "kernelspec": {
   "display_name": "Python 3 (ipykernel)",
   "language": "python",
   "name": "python3"
  },
  "language_info": {
   "codemirror_mode": {
    "name": "ipython",
    "version": 3
   },
   "file_extension": ".py",
   "mimetype": "text/x-python",
   "name": "python",
   "nbconvert_exporter": "python",
   "pygments_lexer": "ipython3",
   "version": "3.10.4"
  }
 },
 "nbformat": 4,
 "nbformat_minor": 5
}
