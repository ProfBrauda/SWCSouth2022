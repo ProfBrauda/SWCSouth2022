{
 "cells": [
  {
   "cell_type": "markdown",
   "id": "be673363",
   "metadata": {},
   "source": [
    "# Jupyter formatting syntax\n",
    "bold is ** before and after\n",
    "italic is _ or * before and after\n",
    "underline is <ins> </ins>\n",
    "adding an image is html: <img src=\"filename\" align = \"right/left/center\" width=### height=### />\n"
   ]
  },
  {
   "cell_type": "markdown",
   "id": "a3b64bde",
   "metadata": {},
   "source": [
    "# Manipulating Data With Pandas <img src=\"images/SWC22-Pandas.PythonPandasLogo.jpg\" align = \"right\" width=200 height=200/>\n",
    "- Pandas is a data analysis library built on top of NumPy.\n",
    "- Pandas provides data structures and operations for manipulating data using DataFrames\n",
    "- DataFrames are multidimensional arrays with attached row and column labels.\n",
    "- DataFrames can include heterogeneous types and/or missing data.\n",
    "- Pandas also provides functions for handling data in a similar fashion to database frameworks and spreadsheet programs.\n",
    "\n"
   ]
  },
  {
   "cell_type": "code",
   "execution_count": null,
   "id": "fb5799a3",
   "metadata": {},
   "outputs": [],
   "source": [
    "# use NumPy and Pandas\n",
    "import numpy as np\n",
    "import pandas as pd\n",
    "print(\"Pandas version is\", pd.__version__)"
   ]
  },
  {
   "cell_type": "markdown",
   "id": "0a934cef",
   "metadata": {},
   "source": [
    "# The Series Object\n",
    "- A Pandas **Series** is a one-dimensional array of indexed data. It can be created from a list or array.\n",
    "    - A Series wraps both a sequence of values and a sequence of indices, which can be used to access with the values and index attributes.\n",
    "    - The values are simply a familiar NumPy array\n"
   ]
  },
  {
   "cell_type": "code",
   "execution_count": null,
   "id": "baad3262",
   "metadata": {},
   "outputs": [],
   "source": [
    "atad = pd.Series([0.52, 0.8, 0.63, 4.0], index = ['a', 'b', 'c', 'd'])\n",
    "print(atad)\n",
    "print()\n",
    "print(atad.values)"
   ]
  },
  {
   "cell_type": "markdown",
   "id": "e7501248",
   "metadata": {},
   "source": [
    "# The Series Index\n",
    "- The Series index is an array-like object of type pd.Index\n",
    "    - Like with a NumPy array, data can be accessed by the associated index using square-bracket notation\n",
    "    - The Pandas Series is much more general and flexible than the one-dimensional NumPy array that it emulates.\n"
   ]
  },
  {
   "cell_type": "code",
   "execution_count": null,
   "id": "75b5e4fe",
   "metadata": {
    "scrolled": true
   },
   "outputs": [],
   "source": [
    "data = pd.Series([0.25, 0.5, 0.79, 1.0])\n",
    "data"
   ]
  },
  {
   "cell_type": "code",
   "execution_count": null,
   "id": "5adc6365",
   "metadata": {},
   "outputs": [],
   "source": [
    "#index of the data series\n",
    "data.index"
   ]
  },
  {
   "cell_type": "code",
   "execution_count": null,
   "id": "90357fa3",
   "metadata": {},
   "outputs": [],
   "source": [
    "#the element at index 1\n",
    "data[1]"
   ]
  },
  {
   "cell_type": "code",
   "execution_count": null,
   "id": "220f64f8",
   "metadata": {},
   "outputs": [],
   "source": [
    "#a slice of a series (start:stop)\n",
    "data[1:3]"
   ]
  },
  {
   "cell_type": "markdown",
   "id": "94b2f81e",
   "metadata": {},
   "source": [
    "# Python Dictionaries and Pandas Series\n",
    "- A Pandas Series is similar to a specialized Python dictionary. \n",
    "    - A dictionary maps arbitrary keys to a set of arbitrary values; a Series maps typed keys to a set of typed values.\n",
    "    - The type information of a Pandas Series is much more efficient than Python dictionaries for certain operations.\n",
    "- Construct a Series object directly from a Python dictionary:\n"
   ]
  },
  {
   "cell_type": "code",
   "execution_count": null,
   "id": "e87d537d",
   "metadata": {},
   "outputs": [],
   "source": [
    "#create a dictionary of key:value pairs\n",
    "population_dict = {'California': 38332521,\n",
    "                   'Texas': 26448193,\n",
    "                   'New York': 19651127,\n",
    "                   'Florida': 19552860,\n",
    "                   'Illinois': 12882135}\n",
    "population_dict"
   ]
  },
  {
   "cell_type": "code",
   "execution_count": null,
   "id": "9eac9217",
   "metadata": {},
   "outputs": [],
   "source": [
    "#create a Pandas series from a Python dictionary\n",
    "population = pd.Series(population_dict)\n",
    "population"
   ]
  },
  {
   "cell_type": "code",
   "execution_count": null,
   "id": "57c22831",
   "metadata": {},
   "outputs": [],
   "source": [
    "#notice the difference between printing the Python dictionary and printing the Pandas Series\n",
    "#there is an implied for:each loop to print each element on a separate line.\n",
    "print(\"Dictionary:\")\n",
    "print(population_dict)\n",
    "print(\"\\nSeries:\")\n",
    "print(population)\n"
   ]
  },
  {
   "cell_type": "markdown",
   "id": "34bcc539",
   "metadata": {},
   "source": [
    "### Dictionary-style item access can be used with a Series:\n",
    "\n"
   ]
  },
  {
   "cell_type": "code",
   "execution_count": null,
   "id": "bb5c2da4",
   "metadata": {},
   "outputs": [],
   "source": [
    "population['California']"
   ]
  },
  {
   "cell_type": "markdown",
   "id": "39650e2f",
   "metadata": {},
   "source": [
    "- Unlike a dictionary, the Series also supports Numpy array-style operations such as slicing:"
   ]
  },
  {
   "cell_type": "code",
   "execution_count": null,
   "id": "de1c2bf9",
   "metadata": {},
   "outputs": [],
   "source": [
    "population['California':'New York']"
   ]
  },
  {
   "cell_type": "markdown",
   "id": "a74ae7b6",
   "metadata": {},
   "source": [
    "# Creating a Series\n",
    "- Creating a Series is almost always some form of\n",
    "            pd.Series(data, index = index)\n",
    "- where index is an optional argument, and data can be one of many entities (e.g., list, dictionary, Numpy array)."
   ]
  },
  {
   "cell_type": "code",
   "execution_count": null,
   "id": "e789129e",
   "metadata": {},
   "outputs": [],
   "source": [
    "# simple scalar series\n",
    "pd.Series([2, 4, 6])"
   ]
  },
  {
   "cell_type": "code",
   "execution_count": null,
   "id": "c957cedf",
   "metadata": {},
   "outputs": [],
   "source": [
    "# scalar series, fill with 5's and specify index\n",
    "pd.Series(5, index=[100, 200, 300])"
   ]
  },
  {
   "cell_type": "code",
   "execution_count": null,
   "id": "edbc5e94",
   "metadata": {},
   "outputs": [],
   "source": [
    "# simple dictionary-based series\n",
    "pd.Series({2:'a', 1:'b', 3:'c'})"
   ]
  },
  {
   "cell_type": "code",
   "execution_count": null,
   "id": "68d424b0",
   "metadata": {},
   "outputs": [],
   "source": [
    "# populate using only specified keys (by index)\n",
    "print(pd.Series({2:'a', 1:'b', 3:'c'}, index=[3, 2]))"
   ]
  },
  {
   "cell_type": "markdown",
   "id": "40633105",
   "metadata": {},
   "source": [
    "# DataFrames\n",
    "- The DataFrame can also be thought of either as a generalization of a NumPy array, or as a specialization of a Python dictionary.\n",
    "- A DataFrame is comparable to a two-dimensional array with both flexible row indices and flexible column names. \n",
    "- Just as you might think of a two-dimensional array as an ordered sequence of aligned one-dimensional columns, you can think of a DataFrame as a sequence of aligned Series objects.\n",
    "\n"
   ]
  },
  {
   "cell_type": "markdown",
   "id": "cafe530b",
   "metadata": {},
   "source": [
    "### Construct a new area Series which parallels the population Series created earlier, then create a two-dimensional DataFrame using those objects"
   ]
  },
  {
   "cell_type": "code",
   "execution_count": null,
   "id": "1671cc4e",
   "metadata": {},
   "outputs": [],
   "source": [
    "#recall the population_dict from above\n",
    "population_dict = {'California': 38332521,\n",
    "                   'Texas': 26448193,\n",
    "                   'New York': 19651127,\n",
    "                   'Florida': 19552860,\n",
    "                   'Illinois': 12882135}"
   ]
  },
  {
   "cell_type": "code",
   "execution_count": null,
   "id": "faab9424",
   "metadata": {},
   "outputs": [],
   "source": [
    "#and the Pandas Series created from that dictionary\n",
    "population = pd.Series(population_dict)\n",
    "population"
   ]
  },
  {
   "cell_type": "code",
   "execution_count": null,
   "id": "83b7a695",
   "metadata": {},
   "outputs": [],
   "source": [
    "#create a new area dictionary for the same states\n",
    "area_dict = {'California': 423967,\n",
    "             'Texas': 695662,\n",
    "             'New York': 141297,\n",
    "             'Florida': 170312, \n",
    "             'Illinois': 149995}"
   ]
  },
  {
   "cell_type": "code",
   "execution_count": null,
   "id": "47079fc0",
   "metadata": {},
   "outputs": [],
   "source": [
    "#create a Pandas Series from the area dictionary\n",
    "area = pd.Series(area_dict)\n",
    "area"
   ]
  },
  {
   "cell_type": "code",
   "execution_count": null,
   "id": "9432897d",
   "metadata": {},
   "outputs": [],
   "source": [
    "#create a DataFrame from the two Series\n",
    "states = pd.DataFrame({'population': population,\n",
    "                       'area': area})\n",
    "states"
   ]
  },
  {
   "cell_type": "markdown",
   "id": "ac360de2",
   "metadata": {},
   "source": [
    "### DataFrame attributes\n",
    "\n",
    "- DataFrames have an index and a column attribute"
   ]
  },
  {
   "cell_type": "code",
   "execution_count": null,
   "id": "a0c9ed07",
   "metadata": {},
   "outputs": [],
   "source": [
    "#index refers to the row headings\n",
    "states.index"
   ]
  },
  {
   "cell_type": "code",
   "execution_count": null,
   "id": "c3b1be79",
   "metadata": {},
   "outputs": [],
   "source": [
    "states.columns"
   ]
  },
  {
   "cell_type": "code",
   "execution_count": null,
   "id": "5d6d99a9",
   "metadata": {},
   "outputs": [],
   "source": [
    "#DataFrames use colum values as indices to a series\n",
    "states['area']"
   ]
  },
  {
   "cell_type": "code",
   "execution_count": null,
   "id": "380da564",
   "metadata": {},
   "outputs": [],
   "source": [
    "### A DataFrame from a list of Dictionaries"
   ]
  },
  {
   "cell_type": "code",
   "execution_count": null,
   "id": "d8193cdc",
   "metadata": {},
   "outputs": [],
   "source": [
    "data = [{'a': i, 'b': 2 * i}\n",
    "        for i in range(3)]\n",
    "data\n",
    "\n"
   ]
  },
  {
   "cell_type": "code",
   "execution_count": null,
   "id": "dbb796e8",
   "metadata": {},
   "outputs": [],
   "source": [
    "pd.DataFrame(data)"
   ]
  },
  {
   "cell_type": "markdown",
   "id": "0dab929f",
   "metadata": {},
   "source": [
    "## Missing Values\n",
    "- Missing values are filled with NaN (\"not-a-number\")\n",
    "- This behavior is important; in data science missing values can impact analytical results and should be dealt with consistently\n",
    "- https://towardsdatascience.com/navigating-the-hell-of-nans-in-python-71b12558895b\n"
   ]
  },
  {
   "cell_type": "code",
   "execution_count": null,
   "id": "a5fac448",
   "metadata": {},
   "outputs": [],
   "source": [
    "data=[{'a': 1, 'b': 2}, \n",
    "      {'b': 3, 'c': 4}]\n",
    "data"
   ]
  },
  {
   "cell_type": "code",
   "execution_count": null,
   "id": "cc8a2dc3",
   "metadata": {},
   "outputs": [],
   "source": [
    "pd.DataFrame(data)"
   ]
  },
  {
   "cell_type": "markdown",
   "id": "0296840e",
   "metadata": {},
   "source": [
    "# A DataFrame from a 2D Array\n",
    "- Given a two-dimensional array of data, a DataFrame can be created with any specified  column and index name.\n",
    "    - If the names are omitted, an integer index will be used for each\n"
   ]
  },
  {
   "cell_type": "code",
   "execution_count": null,
   "id": "5fabd25c",
   "metadata": {},
   "outputs": [],
   "source": [
    "pd.DataFrame(np.random.rand(3, 2),\n",
    "      columns=['foo', 'bar'],\n",
    "      index=['a', 'b', 'c'])"
   ]
  },
  {
   "cell_type": "markdown",
   "id": "ba160c49",
   "metadata": {},
   "source": [
    "# The Pandas Index is an Object\n",
    "- Both the Series and DataFrame objects in Pandas contain an explicit index that lets you reference and modify data\n",
    "- A Pandas Index is itself an object that may contain repeated values\n",
    "- It can be thought of either as an immutable array or as an ordered set (technically a multiset -- a set which allows multiple instances of each of its elements)\n",
    "- This has some interesting consequences in operations available on Index objects. \n"
   ]
  },
  {
   "cell_type": "code",
   "execution_count": null,
   "id": "2c5a483a",
   "metadata": {},
   "outputs": [],
   "source": [
    "ind = pd.Index([2, 3, 5, 7, 11])\n",
    "ind"
   ]
  },
  {
   "cell_type": "markdown",
   "id": "b0762e24",
   "metadata": {},
   "source": [
    "## Array-like Behavior of a Pandas Index\n",
    "- The Index object in many ways operates like an array. \n",
    "    - Indexing notation to retrieve values or slices\n",
    "    - Index objects have many of the attributes familiar from NumPy arrays\n"
   ]
  },
  {
   "cell_type": "code",
   "execution_count": null,
   "id": "c672e50b",
   "metadata": {},
   "outputs": [],
   "source": [
    "ind[1]"
   ]
  },
  {
   "cell_type": "code",
   "execution_count": null,
   "id": "76f906a1",
   "metadata": {},
   "outputs": [],
   "source": [
    "ind[::2]"
   ]
  },
  {
   "cell_type": "markdown",
   "id": "620bbc4b",
   "metadata": {},
   "source": [
    "## A Pandas Index is Immutable\n",
    "- One difference between Index objects and NumPy arrays is that indices are immutable; they cannot be modified in place.\n",
    "- This makes it safer to share indices between multiple DataFrames and arrays, without the potential for side effects from inadvertent index modification.\n"
   ]
  },
  {
   "cell_type": "code",
   "execution_count": null,
   "id": "876394dc",
   "metadata": {},
   "outputs": [],
   "source": [
    "ind[1] = 0"
   ]
  },
  {
   "cell_type": "markdown",
   "id": "920b8788",
   "metadata": {},
   "source": [
    "## The Pandas Index as an Ordered Set\n",
    "- Pandas objects are designed to facilitate operations such as joins across datasets\n",
    "- The Index object follows many of the conventions used by Python’s built-in set data structure, so that unions, intersections, differences, and other combinations can be computed.\n"
   ]
  },
  {
   "cell_type": "code",
   "execution_count": null,
   "id": "33bdc95e",
   "metadata": {},
   "outputs": [],
   "source": [
    "#create two index objects\n",
    "indA = pd.Index([1, 3, 5, 7, 9])\n",
    "indB = pd.Index([2, 3, 5, 7, 11])"
   ]
  },
  {
   "cell_type": "code",
   "execution_count": null,
   "id": "095d88b1",
   "metadata": {},
   "outputs": [],
   "source": [
    "#indA & indB --> intersection: the & usage is deprecated, use the intersection method\n",
    "\n",
    "indA.intersection(indB)\n"
   ]
  },
  {
   "cell_type": "code",
   "execution_count": null,
   "id": "ccf5e73f",
   "metadata": {},
   "outputs": [],
   "source": [
    "# indA ^ indB --> symmetric difference (\"exclusive OR\"): the ^ usage is deprecated\n",
    "\n",
    "indA.symmetric_difference(indB)"
   ]
  },
  {
   "cell_type": "code",
   "execution_count": null,
   "id": "2c3c6422",
   "metadata": {},
   "outputs": [],
   "source": [
    "# indA | indB  --> union: The | usage is deprecated\n",
    "\n",
    "indA.union(indB)\n"
   ]
  },
  {
   "cell_type": "markdown",
   "id": "58222543",
   "metadata": {},
   "source": [
    "# Series as a Dictionary\n",
    "- Like a dictionary, the series object provides a mapping from a collection of keys to a collection of values"
   ]
  },
  {
   "cell_type": "code",
   "execution_count": null,
   "id": "41860602",
   "metadata": {},
   "outputs": [],
   "source": [
    "data = pd.Series([0.25, 0.5, 0.75, 1.0],\n",
    "                index=['a', 'b', 'c', 'd'])"
   ]
  },
  {
   "cell_type": "code",
   "execution_count": null,
   "id": "14e4f30b",
   "metadata": {},
   "outputs": [],
   "source": [
    "data"
   ]
  },
  {
   "cell_type": "code",
   "execution_count": null,
   "id": "05e3a040",
   "metadata": {},
   "outputs": [],
   "source": [
    "data['b']"
   ]
  },
  {
   "cell_type": "markdown",
   "id": "76a8a074",
   "metadata": {},
   "source": [
    "### We can use dictionary-like expressions and methods to examine keys/indices and values"
   ]
  },
  {
   "cell_type": "code",
   "execution_count": null,
   "id": "4ad40508",
   "metadata": {},
   "outputs": [],
   "source": [
    "'a' in data"
   ]
  },
  {
   "cell_type": "code",
   "execution_count": null,
   "id": "80cfc10d",
   "metadata": {},
   "outputs": [],
   "source": [
    "data.keys()"
   ]
  },
  {
   "cell_type": "code",
   "execution_count": null,
   "id": "a87a28ec",
   "metadata": {},
   "outputs": [],
   "source": [
    "list(data.items())"
   ]
  },
  {
   "cell_type": "markdown",
   "id": "7e884c1b",
   "metadata": {},
   "source": [
    "### Series objects can even be modified with a dictionary-like syntax\n",
    "- As a dictionary can be extended by assigning to a new key, extend a series by assigning a value to a new index"
   ]
  },
  {
   "cell_type": "code",
   "execution_count": null,
   "id": "b8e8b666",
   "metadata": {},
   "outputs": [],
   "source": [
    "data"
   ]
  },
  {
   "cell_type": "code",
   "execution_count": null,
   "id": "fd54fb8b",
   "metadata": {},
   "outputs": [],
   "source": [
    "data['e'] = 1.25\n",
    "data"
   ]
  },
  {
   "cell_type": "markdown",
   "id": "506371f1",
   "metadata": {},
   "source": [
    "# Series as a One-dimensional Array\n",
    "- A series provides array-style item selection using the same basic mechanisms as NumPy array, including slices, masking, and fancy indexing"
   ]
  },
  {
   "cell_type": "code",
   "execution_count": null,
   "id": "34a8d676",
   "metadata": {},
   "outputs": [],
   "source": [
    "#slicing by explicit index\n",
    "#NOTE: includes last index!!\n",
    "\n",
    "data['a':'c']\n"
   ]
  },
  {
   "cell_type": "code",
   "execution_count": null,
   "id": "d76c2162",
   "metadata": {},
   "outputs": [],
   "source": [
    "#slicing by implicit integer index\n",
    "#NOTE: does NOT include the last index!\n",
    "\n",
    "data[0:2]"
   ]
  },
  {
   "cell_type": "code",
   "execution_count": null,
   "id": "3fed6379",
   "metadata": {},
   "outputs": [],
   "source": [
    "#masking\n",
    "data[(data > 0.3) & (data < 0.8)]"
   ]
  },
  {
   "cell_type": "code",
   "execution_count": null,
   "id": "b3a307e2",
   "metadata": {},
   "outputs": [],
   "source": [
    "#fancy indexing -- non-continuous\n",
    "data[['a', 'e']]"
   ]
  },
  {
   "cell_type": "markdown",
   "id": "7f81820c",
   "metadata": {},
   "source": [
    "# Indexers\n",
    "### Pandas provides special <ins>indexer</ins> attributes that explicitly expose certain indexing schemes to help prevent confusion when indexing.\n",
    "\n",
    "- Without using the indexers, given a specific index, indexing will use the Series index.\n",
    "- Without using the indexers, slicing will use the Python-style index.\n"
   ]
  },
  {
   "cell_type": "code",
   "execution_count": null,
   "id": "e6a9a825",
   "metadata": {},
   "outputs": [],
   "source": [
    "data = pd.Series(['a', 'b', 'c'], \n",
    "                 index=[1, 3, 5])\n"
   ]
  },
  {
   "cell_type": "code",
   "execution_count": null,
   "id": "47eb4f86",
   "metadata": {},
   "outputs": [],
   "source": [
    "# explicit index\n",
    "print(data[1])"
   ]
  },
  {
   "cell_type": "code",
   "execution_count": null,
   "id": "d4f80f97",
   "metadata": {},
   "outputs": [],
   "source": [
    "# implicit index when slicing --> up to but not including the last index\n",
    "print(data[0:2])"
   ]
  },
  {
   "cell_type": "markdown",
   "id": "224063df",
   "metadata": {},
   "source": [
    "#### The loc attribute allows indexing and slicing that always references the explicit index"
   ]
  },
  {
   "cell_type": "code",
   "execution_count": null,
   "id": "8934e0bb",
   "metadata": {},
   "outputs": [],
   "source": [
    "data.loc[1]"
   ]
  },
  {
   "cell_type": "markdown",
   "id": "ab462d29",
   "metadata": {},
   "source": [
    "#### The iloc attribute allows indexing and slicing that always references the implicit Python-style index"
   ]
  },
  {
   "cell_type": "code",
   "execution_count": null,
   "id": "02cf469d",
   "metadata": {},
   "outputs": [],
   "source": [
    "data.iloc[1]"
   ]
  },
  {
   "attachments": {},
   "cell_type": "markdown",
   "id": "2cfa76c6",
   "metadata": {},
   "source": [
    "#### _The explicit nature of loc and iloc make them very useful in maintaining clean and readable code, especially in the case of integer indexes_"
   ]
  },
  {
   "attachments": {},
   "cell_type": "markdown",
   "id": "5652bf38",
   "metadata": {},
   "source": [
    "# DataFrame as Dictionary\n",
    "- The individual series that make up the columns of the DataFrame can be accessed via dictionary-style indexing of the column name"
   ]
  },
  {
   "cell_type": "code",
   "execution_count": null,
   "id": "e3d0d9d0",
   "metadata": {},
   "outputs": [],
   "source": [
    "area = pd.Series({'California': 423967, 'Texas': 695662,\n",
    "                  'New York': 141297, 'Florida': 170312,\n",
    "                  'Illinois': 149995})\n",
    "pop = pd.Series({'California': 38332521, 'Texas': 26448193,\n",
    "                 'New York': 19651127, 'Florida': 19552860,\n",
    "                 'Illinois': 12882135})\n",
    "data = pd.DataFrame({'area':area, 'pop':pop})"
   ]
  },
  {
   "cell_type": "code",
   "execution_count": null,
   "id": "da383695",
   "metadata": {},
   "outputs": [],
   "source": [
    "data"
   ]
  },
  {
   "cell_type": "code",
   "execution_count": null,
   "id": "a560761d",
   "metadata": {},
   "outputs": [],
   "source": [
    "data['area']"
   ]
  },
  {
   "cell_type": "code",
   "execution_count": null,
   "id": "e29ac332",
   "metadata": {},
   "outputs": [],
   "source": [
    "#we can use attribute-style access with column names that are strings\n",
    "\n",
    "data.area"
   ]
  },
  {
   "cell_type": "code",
   "execution_count": null,
   "id": "87eb57d0",
   "metadata": {},
   "outputs": [],
   "source": [
    "#use the **is** operator to compare identities of each object\n",
    "\n",
    "data.area is data['area']"
   ]
  },
  {
   "cell_type": "code",
   "execution_count": null,
   "id": "196c2f24",
   "metadata": {},
   "outputs": [],
   "source": [
    "data.pop('area')\n"
   ]
  },
  {
   "cell_type": "code",
   "execution_count": null,
   "id": "796c0c73",
   "metadata": {},
   "outputs": [],
   "source": [
    "data.columns"
   ]
  },
  {
   "cell_type": "markdown",
   "id": "0109ae27",
   "metadata": {},
   "source": [
    "### Dictionary-style syntax can also be used to modify the DataFrame"
   ]
  },
  {
   "cell_type": "code",
   "execution_count": null,
   "id": "1ba9539d",
   "metadata": {},
   "outputs": [],
   "source": [
    "#first, add back the column that was popped previously\n",
    "\n",
    "data['area'] = pd.Series({'California': 423967, 'Texas': 695662,\n",
    "                  'New York': 141297, 'Florida': 170312,\n",
    "                  'Illinois': 149995})\n",
    "data"
   ]
  },
  {
   "cell_type": "code",
   "execution_count": null,
   "id": "c2362570",
   "metadata": {},
   "outputs": [],
   "source": [
    "#compute density and add the density column to the DataFrame\n",
    "\n",
    "data['density'] = data['pop'] / data['area']\n",
    "\n",
    "data"
   ]
  },
  {
   "attachments": {},
   "cell_type": "markdown",
   "id": "d026e9c6",
   "metadata": {},
   "source": [
    "# DataFrame as a Two-dimensional (2D) array\n",
    "- The DataFrame can be viewed as an enhanced two-dimensional array\n",
    " - View the underlying data array using the ndarray **values** attribute"
   ]
  },
  {
   "cell_type": "code",
   "execution_count": null,
   "id": "1ce3c358",
   "metadata": {},
   "outputs": [],
   "source": [
    "data.values"
   ]
  },
  {
   "cell_type": "markdown",
   "id": "4f9312a6",
   "metadata": {},
   "source": [
    " - Transpost the array using the **T** attribute\n"
   ]
  },
  {
   "cell_type": "code",
   "execution_count": null,
   "id": "ff046a86",
   "metadata": {},
   "outputs": [],
   "source": [
    "data.T"
   ]
  },
  {
   "cell_type": "markdown",
   "id": "0929e2af",
   "metadata": {},
   "source": [
    "# Resume with Slide 33"
   ]
  },
  {
   "cell_type": "code",
   "execution_count": null,
   "id": "757ff0fc",
   "metadata": {},
   "outputs": [],
   "source": []
  }
 ],
 "metadata": {
  "kernelspec": {
   "display_name": "Python 3 (ipykernel)",
   "language": "python",
   "name": "python3"
  },
  "language_info": {
   "codemirror_mode": {
    "name": "ipython",
    "version": 3
   },
   "file_extension": ".py",
   "mimetype": "text/x-python",
   "name": "python",
   "nbconvert_exporter": "python",
   "pygments_lexer": "ipython3",
   "version": "3.10.4"
  }
 },
 "nbformat": 4,
 "nbformat_minor": 5
}
