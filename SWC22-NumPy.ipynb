{
 "cells": [
  {
   "cell_type": "markdown",
   "id": "be1e5c98-4936-4430-b78b-7375d2475560",
   "metadata": {},
   "source": [
    "# Introduction to NumPy\n",
    "-  __NumPy__ (Numerical Python) is pronounced NUM-py or sometimes NUM-pee\n",
    "-  NumPy provides __arrays__ similar to Python __lists__, but with more efficient storage and better performance, \n",
    "particularly as the data grows larger.\n",
    "-  NumPy arrays are the core of data science tools in Python\n",
    "\n",
    "## Installing and Using NumPy\n",
    "### Installing NumPy on Windows 10 using pip:\n",
    "- For an \"all-user\" configuration, run CMDtool as admin user\n",
    "- Navigate to install folder, e.g. assuming Python is installed in C:\\Program Files\\Python\n",
    "\n",
    "     C:\n",
    "     cd \"\\Program Files\\Python\"\n",
    "\n",
    "- Update pip and setuptools first\n",
    "\n",
    "        C:\\Program Files\\Python>python -m pip install --upgrade pip\n",
    "\n",
    "        C:\\Program Files\\Python>pip install --upgrade setuptools\n",
    "\n",
    "        C:\\Program Files\\Python>pip install numpy"
   ]
  },
  {
   "cell_type": "code",
   "execution_count": 2,
   "id": "4c45e794-abd8-4fd2-9050-cecd214f3a62",
   "metadata": {},
   "outputs": [
    {
     "name": "stdout",
     "output_type": "stream",
     "text": [
      "NumPy version is 1.22.3\n"
     ]
    }
   ],
   "source": [
    "# Importing numpy in a program\n",
    "import numpy as np      # alias to np\n",
    "print(\"NumPy version is\", np.__version__)   # version check"
   ]
  },
  {
   "cell_type": "markdown",
   "id": "dee3aae9",
   "metadata": {},
   "source": [
    "## Understanding Data Types in Python\n",
    "- \"Primitive\" data types in Python (integers, floating point values, Booleans) are objects\n",
    "    - Each object consists of an internal C-language structure which includes a reference count, a type encoding, a size attribute, and the actual value\n",
    "    - These attributes make Python a dynamically typed (flexible) language, but also reduce performance\n",
    "- In a Python list, each element is a self-contained object\n",
    "    - When lists contain elements of the same data type, some internal information is redundant\n",
    "    - List elements are randomly distributed throughout memory"
   ]
  },
  {
   "cell_type": "markdown",
   "id": "dc357258",
   "metadata": {},
   "source": [
    "## NumPy N-Dimensional Arrays\n",
    "- A NumPy n-dimensional array (ndarray)  is a fixed-size, multidimensional container of items of the same type and size.\n",
    "    - The number of dimensions and items in an ndarray is defined by its shape, which is a tuple of N non-negative integers that specify the sizes of each dimension.\n",
    "- NumPy arrays store data as a contiguous block for efficiency (\"dense\" arrays).\n",
    "    - The Python array module (Python 3.3 and later) provides a similar structure, but the NumPy ndarray provides additional operations."
   ]
  },
  {
   "cell_type": "markdown",
   "id": "97a2e75a",
   "metadata": {},
   "source": [
    "## NumPy Arrays vs. Python Lists"
   ]
  },
  {
   "cell_type": "markdown",
   "id": "953552b8",
   "metadata": {},
   "source": [
    "<img src=\"images/SWC22-NumPy.python-list.numpy-array.png\" align = \"left\" width=300 height=300 />"
   ]
  },
  {
   "cell_type": "markdown",
   "id": "544e397a",
   "metadata": {},
   "source": [
    "<img src=\"images/SWC22-NumPy.python-list.png\" align = \"left\" width=400 height=400 />"
   ]
  },
  {
   "cell_type": "markdown",
   "id": "7c56a07c",
   "metadata": {},
   "source": [
    "# Creating NumPy Arrays from Lists\n",
    "- ndarrays can be created from Python lists"
   ]
  },
  {
   "cell_type": "code",
   "execution_count": 3,
   "id": "9d00bd02",
   "metadata": {},
   "outputs": [
    {
     "name": "stdout",
     "output_type": "stream",
     "text": [
      "[1 4 2 5 3]\n",
      "[3.14 4.   2.   3.  ]\n",
      "[1. 2. 3. 4.]\n",
      "[[2 3 4]\n",
      " [4 5 6]\n",
      " [6 7 8]]\n"
     ]
    }
   ],
   "source": [
    "# integer array:\n",
    "npa = np.array([1, 4, 2, 5, 3])\n",
    "print(npa)\n",
    "\n",
    "# upcast integers to float\n",
    "npa = np.array([3.14, 4, 2, 3])\n",
    "print(npa)\n",
    "\n",
    "# specify array element type\n",
    "npa = np.array([1, 2, 3, 4], dtype='float32')\n",
    "print(npa)\n",
    "\n",
    "# multidimensional array using list of lists\n",
    "npa = np.array([range(i, i + 3) for i in [2, 4, 6]])\n",
    "print(npa)"
   ]
  },
  {
   "cell_type": "markdown",
   "id": "69f59c5e",
   "metadata": {},
   "source": [
    "# Creating NumPy Arrays from Scratch\n",
    "- NumPy provides optimized functions to create ndarrays"
   ]
  },
  {
   "cell_type": "code",
   "execution_count": 4,
   "id": "9365e0d6",
   "metadata": {},
   "outputs": [
    {
     "name": "stdout",
     "output_type": "stream",
     "text": [
      "[0 0 0 0 0 0 0 0 0 0]\n",
      "[[1. 1. 1. 1. 1.]\n",
      " [1. 1. 1. 1. 1.]\n",
      " [1. 1. 1. 1. 1.]]\n",
      "[[3.14 3.14 3.14 3.14 3.14]\n",
      " [3.14 3.14 3.14 3.14 3.14]\n",
      " [3.14 3.14 3.14 3.14 3.14]]\n",
      "[ 0  2  4  6  8 10 12 14 16 18]\n"
     ]
    }
   ],
   "source": [
    "# create a 10-integer array filled with zeros\n",
    "npa = np.zeros(10, dtype=int)\n",
    "print(npa)\n",
    "\n",
    "# create a 3x5 floating point array filled with ones\n",
    "npa = np.ones((3,5), dtype=float)\n",
    "print(npa)\n",
    "\n",
    "# create a 3x5 array filled with 3.14\n",
    "npa = np.full((3,5), 3.14)\n",
    "print(npa)\n",
    "\n",
    "# create an array filled with a linear sequence\n",
    "# starting at 0, ending at 20, stepping by 2\n",
    "# (similar to built-in range() function)\n",
    "npa = np.arange(0, 20, 2)\n",
    "print(npa)"
   ]
  },
  {
   "cell_type": "code",
   "execution_count": 5,
   "id": "e2451cb7",
   "metadata": {},
   "outputs": [
    {
     "name": "stdout",
     "output_type": "stream",
     "text": [
      "[[0.34610892 0.47273017 0.93711657]\n",
      " [0.37700603 0.52057879 0.92724499]\n",
      " [0.60601585 0.29970157 0.27128861]]\n",
      "[[ 1.29315837  0.80998465 -0.76446829]\n",
      " [-0.1596833   1.1265747  -0.5193559 ]\n",
      " [ 0.10304571  0.06663086 -0.01144649]]\n"
     ]
    }
   ],
   "source": [
    "# create a 3x3 array of uniformly distributed\n",
    "# random values between 0 and 1\n",
    "npa = np.random.random((3,3))\n",
    "print(npa)\n",
    "\n",
    "# create a 3x3 array of normally distributed random\n",
    "# values with mean 0 and standard deviation 1\n",
    "npa = np.random.normal(0,1,(3,3))\n",
    "print(npa)"
   ]
  },
  {
   "cell_type": "markdown",
   "id": "cb7f228b",
   "metadata": {},
   "source": [
    "# NumPy Standard Data Types\n",
    "<img src=\"images/SWC22-NumPy.standard-data-types.png\" align = \"left\" width=400 height=400 />"
   ]
  },
  {
   "cell_type": "markdown",
   "id": "15eaa279",
   "metadata": {},
   "source": [
    "# NumPy Array Operations\n",
    "- NumPy array operations are critical to many Data Science packages\n",
    "- Array operations include\n",
    "    - accessing attributes: determining size, shape, memory usage, and data types\n",
    "    - indexing: getting/setting individual array element values\n",
    "    - slicing: getting/setting subarrays\n",
    "    - reshaping: changing an array's shape\n",
    "    - joining/splitting: combining multiple arrays into one, split one array into multiple"
   ]
  },
  {
   "cell_type": "markdown",
   "id": "6f3a26e3",
   "metadata": {},
   "source": [
    "# NumPy Array Attributes\n",
    "\n",
    "- Useful attributes of NumPy arrays:\n",
    "    - ndim: number of dimensions\n",
    "    - shape: size of each dimension\n",
    "    - size: total size of the array (number of elements)\n",
    "    - dtype: data type\n",
    "    - itemsize: size in bytes of one array element\n",
    "    - nbytes: total size of array in bytes (itemsize * size)\n"
   ]
  },
  {
   "cell_type": "markdown",
   "id": "66b084d8",
   "metadata": {},
   "source": [
    "# Displaying NumPy Array Attributes\n",
    "- Let's use a simple NumPy function to demonstrate how to display an array's attributes:\n",
    "    - The **random.randint** function creates a NumPy array of random integers as part of a uniform distribution (probability of all values is the same)"
   ]
  },
  {
   "cell_type": "code",
   "execution_count": 6,
   "id": "8f067463",
   "metadata": {},
   "outputs": [
    {
     "name": "stdout",
     "output_type": "stream",
     "text": [
      "[8 1 3 4 1]\n",
      "1\n",
      "(5,)\n",
      "5\n",
      "int32\n",
      "4\n",
      "20\n"
     ]
    }
   ],
   "source": [
    "dist = np.random.randint(low=1, high=10, size=5, dtype='l')\n",
    "print(dist)\n",
    "print(dist.ndim)\n",
    "print(dist.shape)\n",
    "print(dist.size)\n",
    "print(dist.dtype)\n",
    "print(dist.itemsize)\n",
    "print(dist.nbytes)"
   ]
  },
  {
   "cell_type": "markdown",
   "id": "60647f68",
   "metadata": {},
   "source": [
    "# 2D NumPy Array Attributes\n",
    "- The following examples demonstrate the array attributes of various types of NumPy arrays"
   ]
  },
  {
   "cell_type": "code",
   "execution_count": 7,
   "id": "9f353f8f",
   "metadata": {},
   "outputs": [
    {
     "name": "stdout",
     "output_type": "stream",
     "text": [
      "x1: \n",
      "[5 0 3 3 7 9]\n",
      "x1 ndim:  1\n",
      "x1 shape:  (6,)\n",
      "x1 size:  6\n",
      "x2: \n",
      "[[3 5 2 4]\n",
      " [7 6 8 8]\n",
      " [1 6 7 7]]\n",
      "x2 ndim:  2\n",
      "x2 shape:  (3, 4)\n",
      "x2 size:  12\n",
      "x3: \n",
      "[[[8 1 5 9 8]\n",
      "  [9 4 3 0 3]\n",
      "  [5 0 2 3 8]\n",
      "  [1 3 3 3 7]]\n",
      "\n",
      " [[0 1 9 9 0]\n",
      "  [4 7 3 2 7]\n",
      "  [2 0 0 4 5]\n",
      "  [5 6 8 4 1]]\n",
      "\n",
      " [[4 9 8 1 1]\n",
      "  [7 9 9 3 6]\n",
      "  [7 2 0 3 5]\n",
      "  [9 4 4 6 4]]]\n",
      "x3 ndim:  3\n",
      "x3 shape:  (3, 4, 5)\n",
      "x3 size:  60\n"
     ]
    }
   ],
   "source": [
    "np.random.seed(0) # seed random generator\n",
    "x1 = np.random.randint(10, size=6)\n",
    "x2 = np.random.randint(10, size=(3,4))\n",
    "x3 = np.random.randint(10, size=(3,4,5))\n",
    "\n",
    "print(\"x1: \")\n",
    "print(x1)\n",
    "\n",
    "print(\"x1 ndim: \", x1.ndim)\n",
    "print(\"x1 shape: \", x1.shape)\n",
    "print(\"x1 size: \", x1.size)\n",
    "\n",
    "print(\"x2: \")\n",
    "print(x2)\n",
    "\n",
    "print(\"x2 ndim: \", x2.ndim)\n",
    "print(\"x2 shape: \", x2.shape)\n",
    "print(\"x2 size: \", x2.size)\n",
    "\n",
    "print(\"x3: \")\n",
    "print(x3)\n",
    "\n",
    "print(\"x3 ndim: \", x3.ndim)\n",
    "print(\"x3 shape: \", x3.shape)\n",
    "print(\"x3 size: \", x3.size)"
   ]
  },
  {
   "cell_type": "markdown",
   "id": "9ac3a670",
   "metadata": {},
   "source": [
    "# Array Indexing: Single Element, Single Dimension\n",
    "- NumPy array indexing is similar to Python list indexing, both for accessing and setting single elements"
   ]
  },
  {
   "cell_type": "code",
   "execution_count": 8,
   "id": "d9772995",
   "metadata": {},
   "outputs": [
    {
     "name": "stdout",
     "output_type": "stream",
     "text": [
      "x1 =  [4 3 4 4 8 4]\n",
      "x1[0] =  4\n",
      "x1[4] =  8\n",
      "x1[-1] =  4\n",
      "x1[-2] =  8\n",
      "x1[1] =  3\n",
      "x1 =  [4 3 4 4 8 4]\n"
     ]
    }
   ],
   "source": [
    "x1 = np.random.randint(10, size=6)\n",
    "print(\"x1 = \", x1)\n",
    "print(\"x1[0] = \", x1[0])\n",
    "print(\"x1[4] = \", x1[4])\n",
    "print(\"x1[-1] = \", x1[-1])\n",
    "print(\"x1[-2] = \", x1[-2])\n",
    "x1[1] = 3.14159 # will truncate\n",
    "print(\"x1[1] = \", x1[1])\n",
    "print(\"x1 = \", x1)"
   ]
  },
  {
   "cell_type": "markdown",
   "id": "f8e5a432",
   "metadata": {},
   "source": [
    "# Array Indexing: Single Element, Multi-Dimension"
   ]
  },
  {
   "cell_type": "code",
   "execution_count": 9,
   "id": "1c993947",
   "metadata": {},
   "outputs": [
    {
     "name": "stdout",
     "output_type": "stream",
     "text": [
      "x2 = \n",
      " [[3 7 5 5]\n",
      " [0 1 5 9]\n",
      " [3 0 5 0]]\n",
      "\n",
      "x2[0,0] =  3\n",
      "x2[2,0] =  3\n",
      "x2[2,-1] =  0\n"
     ]
    }
   ],
   "source": [
    "x2 = np.random.randint(10, size=(3,4))\n",
    "print(\"x2 = \\n\", x2)\n",
    "print()\n",
    "print(\"x2[0,0] = \", x2[0,0])\n",
    "print(\"x2[2,0] = \", x2[2,0])\n",
    "print(\"x2[2,-1] = \", x2[2,-1])\n"
   ]
  },
  {
   "cell_type": "markdown",
   "id": "903abbf5",
   "metadata": {},
   "source": [
    "# Array Slicing: One Dimension\n",
    "- NumPy slicing syntax follows that of the standard Python list\n",
    "- To access a slice of an array x, use x[start:stop:step]\n",
    "    - If any of these are unspecified, they default to the values\n",
    "          start=0, stop=(size of dimension), step=1"
   ]
  },
  {
   "cell_type": "code",
   "execution_count": 10,
   "id": "fc9f4b23",
   "metadata": {},
   "outputs": [
    {
     "name": "stdout",
     "output_type": "stream",
     "text": [
      "x1 =  [4 3 4 4 8 4]\n",
      "x1[:3] =  [4 3 4]\n",
      "x1[3:] =  [4 8 4]\n",
      "x1[2:5] =  [4 4 8]\n",
      "x1[::2] =  [4 4 8]\n",
      "x1[::-1] =  [4 8 4 4 3 4]\n"
     ]
    }
   ],
   "source": [
    "# slicing\n",
    "print(\"x1 = \", x1)\n",
    "print(\"x1[:3] = \", x1[:3])    # up to index 3 (excl)\n",
    "print(\"x1[3:] = \", x1[3:])    # start at index 3\n",
    "print(\"x1[2:5] = \", x1[2:5])  # element index 2 - 4\n",
    "print(\"x1[::2] = \", x1[::2])  # every other element\n",
    "print(\"x1[::-1] = \", x1[::-1]) # reverse all"
   ]
  },
  {
   "cell_type": "markdown",
   "id": "7891caa0",
   "metadata": {},
   "source": [
    "# Array Slicing: Multi-Dimension\n",
    "- Multiple-dimension slices are separated by commas"
   ]
  },
  {
   "cell_type": "code",
   "execution_count": 11,
   "id": "48b25340",
   "metadata": {},
   "outputs": [
    {
     "name": "stdout",
     "output_type": "stream",
     "text": [
      "x2 = \n",
      " [[3 7 5 5]\n",
      " [0 1 5 9]\n",
      " [3 0 5 0]]\n",
      "x2[:2,:3] = \n",
      " [[3 7 5]\n",
      " [0 1 5]]\n",
      "x2[:3,::2] = \n",
      " [[3 5]\n",
      " [0 5]\n",
      " [3 5]]\n",
      "x2[::-1,::-1] = \n",
      " [[0 5 0 3]\n",
      " [9 5 1 0]\n",
      " [5 5 7 3]]\n"
     ]
    }
   ],
   "source": [
    "# multi-slicing\n",
    "print(\"x2 = \\n\", x2)\n",
    "print(\"x2[:2,:3] = \\n\", x2[:2, :3]) # 2 rows, 3 columns\n",
    "print(\"x2[:3,::2] = \\n\", x2[:3, ::2]) # all rows, every other column\n",
    "print(\"x2[::-1,::-1] = \\n\", x2[::-1, ::-1]) # reverse rows and columns"
   ]
  },
  {
   "cell_type": "markdown",
   "id": "7a50f9c7",
   "metadata": {},
   "source": [
    "# Accessing Array Rows and Columns\n",
    "- Combine indexing and slicing to access an entire row or column"
   ]
  },
  {
   "cell_type": "code",
   "execution_count": 12,
   "id": "a0c0d06a",
   "metadata": {},
   "outputs": [
    {
     "name": "stdout",
     "output_type": "stream",
     "text": [
      "x2 =\n",
      " [[3 7 5 5]\n",
      " [0 1 5 9]\n",
      " [3 0 5 0]]\n",
      "x2[:,0] [3 0 3]\n",
      "x2[0,:] [3 7 5 5]\n",
      "x2[0] [3 7 5 5]\n"
     ]
    }
   ],
   "source": [
    "print(\"x2 =\\n\", x2)\n",
    "print(\"x2[:,0]\", x2[:, 0])  # first column\n",
    "print(\"x2[0,:]\", x2[0, :])  # first row\n",
    "print(\"x2[0]\", x2[0])     # first row (can omit : for row)"
   ]
  },
  {
   "cell_type": "markdown",
   "id": "4509b7dd",
   "metadata": {},
   "source": [
    "# NumPy Arrays as Views\n",
    "- In contrast to lists, which slice as *copies*, numpy arrays slice as *views*\n",
    "    - Modifications to a numpy array slice modifies original data in place vs.  modifying a copy of the data, improving performance\n",
    "    - Use array.copy() as necessary, e.g. to back up original data"
   ]
  },
  {
   "cell_type": "code",
   "execution_count": 13,
   "id": "d1c211a9",
   "metadata": {},
   "outputs": [
    {
     "name": "stdout",
     "output_type": "stream",
     "text": [
      "x2 = \n",
      "[[3 7 5 5]\n",
      " [0 1 5 9]\n",
      " [3 0 5 0]]\n",
      "x2_sub (sliced as x2[:2, :2]) = \n",
      "[[3 7]\n",
      " [0 1]]\n",
      "x2_sub modified first element:\n",
      "[[99  7]\n",
      " [ 0  1]]\n",
      "x2 was also modified:\n",
      "[[99  7  5  5]\n",
      " [ 0  1  5  9]\n",
      " [ 3  0  5  0]]\n"
     ]
    }
   ],
   "source": [
    "print('x2 = ')\n",
    "print(x2)\n",
    "x2bak = x2.copy()    # back up x2\n",
    "x2_sub = x2[:2, :2]  # slice x2 into x2_sub\n",
    "print('x2_sub (sliced as x2[:2, :2]) = ')\n",
    "print(x2_sub)\n",
    "x2_sub[0, 0]= 99     # modify x2_sub\n",
    "print('x2_sub modified first element:')\n",
    "print(x2_sub)\n",
    "print('x2 was also modified:')\n",
    "print(x2)\n",
    "x2 = x2bak.copy()    # restore original x2"
   ]
  },
  {
   "cell_type": "markdown",
   "id": "c37c3e7d",
   "metadata": {},
   "source": [
    "# Reshaping Arrays\n",
    "- The reshape() function gives a new shape to an array without changing its data.\n",
    "    - The size of the initial array must match the size of the reshaped array"
   ]
  },
  {
   "cell_type": "code",
   "execution_count": 14,
   "id": "0ffe476a",
   "metadata": {},
   "outputs": [
    {
     "name": "stdout",
     "output_type": "stream",
     "text": [
      "r =  [1 2 3 4 5 6 7 8 9]\n",
      "grid = \n",
      "[[1 2 3]\n",
      " [4 5 6]\n",
      " [7 8 9]]\n",
      "ndim: 2 , shape: (3, 3)\n"
     ]
    }
   ],
   "source": [
    "# reshape 1D to 2D (3x3)\n",
    "r = np.arange(1, 10)\n",
    "print(\"r = \", r)\n",
    "grid = r.reshape((3, 3))\n",
    "print(\"grid = \")\n",
    "print(grid)\n",
    "print('ndim:', grid.ndim, ', shape:', grid.shape)"
   ]
  },
  {
   "cell_type": "code",
   "execution_count": 15,
   "id": "65ad75c2",
   "metadata": {},
   "outputs": [
    {
     "name": "stdout",
     "output_type": "stream",
     "text": [
      "reshape a 1x3 array as 3x1:\n",
      "x ndim: 1 , shape: (3,)\n",
      "y ndim: 2 , shape: (3, 1)\n",
      "[[1]\n",
      " [2]\n",
      " [3]]\n"
     ]
    }
   ],
   "source": [
    "# convert 1D array to 2D (3x1)\n",
    "print('reshape a 1x3 array as 3x1:')\n",
    "x = np.array([1, 2, 3])\n",
    "print('x ndim:', x.ndim, ', shape:', x.shape)\n",
    "\n",
    "y = x.reshape(3, 1)\n",
    "print('y ndim:', y.ndim, ', shape:', y.shape)\n",
    "print(y)"
   ]
  },
  {
   "cell_type": "markdown",
   "id": "49fad9bc",
   "metadata": {},
   "source": [
    "# NumPy Arrays vs. Matrices\n",
    "- You will see references to <ins>matrices</ins> in NumPy operations\n",
    "    - Note the distinction between an <ins>array</ins> and a <ins>matrix</ins>:\n",
    "        - **array**\n",
    "          A homogeneous n-dimensional container (ndarray) of numerical elements\n",
    "        - **matrix**\n",
    "          A 2-dimensional ndarray that preserves its two-dimensional nature throughout operations. It has certain special operations, such as * (matrix multiplication) and ** (matrix power)"
   ]
  },
  {
   "attachments": {},
   "cell_type": "markdown",
   "id": "4635bb50",
   "metadata": {},
   "source": [
    "# Array Concatenation\n",
    "Three functions are available for concatenating arrays:\n",
    "- np.concatenate  \n",
    "- np.vstack  \n",
    "- np.hstack\n",
    "\n",
    "<ins>np.concatenate</ins> takes a tuple or list of arrays as its first argument"
   ]
  },
  {
   "cell_type": "code",
   "execution_count": 16,
   "id": "35e794fd",
   "metadata": {},
   "outputs": [
    {
     "name": "stdout",
     "output_type": "stream",
     "text": [
      "x:\n",
      "[1 2 3]\n",
      "y:\n",
      "[3 2 1]\n",
      "concatenated:\n",
      "[1 2 3 3 2 1]\n"
     ]
    }
   ],
   "source": [
    "x = np.array([1, 2, 3])\n",
    "print('x:')\n",
    "print(x)\n",
    "\n",
    "y = np.array([3, 2, 1])\n",
    "print('y:')\n",
    "print(y)\n",
    "\n",
    "print('concatenated:')\n",
    "print(np.concatenate([x, y]))"
   ]
  },
  {
   "attachments": {},
   "cell_type": "markdown",
   "id": "4ae5b7e4",
   "metadata": {},
   "source": [
    "# Array Concatenation with np.vstack\n",
    "- <ins>np.vstack</ins> will concatenate vertically\n",
    "- useful for arrays with different dimensions"
   ]
  },
  {
   "cell_type": "code",
   "execution_count": 17,
   "id": "c8bb5fca",
   "metadata": {},
   "outputs": [
    {
     "name": "stdout",
     "output_type": "stream",
     "text": [
      "[[1 2 3]\n",
      " [9 8 7]\n",
      " [6 5 4]]\n"
     ]
    }
   ],
   "source": [
    "x = np.array([1, 2, 3])\n",
    "grid = np.array([[9, 8, 7],\n",
    "                 [6, 5, 4]])\n",
    "\n",
    "# vertically stack the arrays\n",
    "print(np.vstack([x, grid]))"
   ]
  },
  {
   "attachments": {},
   "cell_type": "markdown",
   "id": "260d3750",
   "metadata": {},
   "source": [
    "# Array Concatenation with np.hstack\n",
    "- <ins>np.hstack</ins> will concatenate horizonally"
   ]
  },
  {
   "cell_type": "code",
   "execution_count": 18,
   "id": "2f4e00cc",
   "metadata": {},
   "outputs": [
    {
     "name": "stdout",
     "output_type": "stream",
     "text": [
      "[[ 9  8  7 99]\n",
      " [ 6  5  4 99]]\n"
     ]
    }
   ],
   "source": [
    "grid = np.array([[9, 8, 7],\n",
    "                 [6, 5, 4]])\n",
    "y = np.array([[99],\n",
    "              [99]])\n",
    "# horizontally stack the arrays\n",
    "print(np.hstack([grid, y]))"
   ]
  },
  {
   "attachments": {},
   "cell_type": "markdown",
   "id": "651686dd",
   "metadata": {},
   "source": [
    "# Array Splitting\n",
    "- The opposite of concatenation is splitting, implemented by <ins>np.split</ins>, <ins>np.hsplit</ins>, and <ins>np.vsplit</ins>.\n",
    "- Each of these accepts a list of indices giving the split points.\n",
    "- N split points lead to N + 1 subarrays"
   ]
  },
  {
   "cell_type": "code",
   "execution_count": 19,
   "id": "9c55a8ab",
   "metadata": {},
   "outputs": [
    {
     "name": "stdout",
     "output_type": "stream",
     "text": [
      "[1 2 3] [99 99] [3 2 1]\n"
     ]
    }
   ],
   "source": [
    "x = [1, 2, 3, 99, 99, 3, 2, 1]\n",
    "x1, x2, x3 = np.split(x, [3, 5])\n",
    "print(x1, x2, x3)"
   ]
  },
  {
   "attachments": {},
   "cell_type": "markdown",
   "id": "19f1c024",
   "metadata": {},
   "source": [
    "# Universal Functions\n",
    "- Standard algorithmic approaches to array manipulation can be very slow when data sets get large.\n",
    "    - Python's dynamic typing can cause bottlenecks in calculations.\n",
    "    - Compiled code predetermines types and results are computed much more efficiently.\n",
    "- NumPy provides an interface into statically typed, compiled routines known as <ins>vectorized</ins> operations, implemented through <ins>universal functions</ins> (\"ufuncs\"). \n",
    "    - ufuncs make repeated calculations on array elements much more efficient"
   ]
  },
  {
   "attachments": {},
   "cell_type": "markdown",
   "id": "835f9487",
   "metadata": {},
   "source": [
    "# Universal Functions: Example\n",
    "- define a function to calculate reciprocals (1 / number) and calculate the time difference between a standard algorithm vs. ufunc"
   ]
  },
  {
   "cell_type": "code",
   "execution_count": 20,
   "id": "b07bd7c6",
   "metadata": {},
   "outputs": [
    {
     "name": "stdout",
     "output_type": "stream",
     "text": [
      "values: [2 3 5 3 1]\n",
      "reciprocals: [0.5        0.33333333 0.2        0.33333333 1.        ]\n"
     ]
    }
   ],
   "source": [
    "def compute_reciprocals(values):\n",
    "    output = np.empty(len(values))\n",
    "    for i in range(len(values)):\n",
    "        output[i] = 1.0 / values[i]\n",
    "    return output\n",
    "\n",
    "values = np.random.randint(1, 10, size=5)\n",
    "print('values:', values)\n",
    "print('reciprocals:', compute_reciprocals(values))"
   ]
  },
  {
   "attachments": {},
   "cell_type": "markdown",
   "id": "e0f7dbb6",
   "metadata": {},
   "source": [
    "- Now use the Python timing library to time the reciprocal function on a large data set"
   ]
  },
  {
   "cell_type": "code",
   "execution_count": 21,
   "id": "3185ea84",
   "metadata": {},
   "outputs": [
    {
     "name": "stdout",
     "output_type": "stream",
     "text": [
      "time to run 5 reciprocal calculations on 1000000 items:\n",
      "8.336392499972135\n"
     ]
    }
   ],
   "source": [
    "import timeit\n",
    "big_array = np.random.randint(1, 100, size=1000000)\n",
    "stmt_arg = 'compute_reciprocals(big_array)'\n",
    "setup_arg = 'from __main__ import compute_reciprocals, big_array'\n",
    "t = timeit.Timer(stmt=stmt_arg,setup=setup_arg)\n",
    "\n",
    "print('time to run 5 reciprocal calculations on 1000000 items:')\n",
    "print(t.timeit(number=5))"
   ]
  },
  {
   "cell_type": "markdown",
   "id": "eb4285a8",
   "metadata": {},
   "source": [
    "- Finally , modify the compute_reciprocals function to use a vectorized calculation"
   ]
  },
  {
   "cell_type": "code",
   "execution_count": 22,
   "id": "3d204c33",
   "metadata": {},
   "outputs": [
    {
     "name": "stdout",
     "output_type": "stream",
     "text": [
      "time to run 5 reciprocal calculations on 1000000 items:\n",
      "0.013354800059460104\n"
     ]
    }
   ],
   "source": [
    "def compute_reciprocals(values):\n",
    "    output = np.empty(len(values))\n",
    "    #for i in range(len(values)):\n",
    "    #    output[i] = 1.0 / values[i]\n",
    "    output = 1.0 / values\n",
    "    return output\n",
    "\n",
    "# run the timed operation again\n",
    "print('time to run 5 reciprocal calculations on 1000000 items:')\n",
    "print(t.timeit(number=5))"
   ]
  },
  {
   "attachments": {},
   "cell_type": "markdown",
   "id": "d0045dd3",
   "metadata": {},
   "source": [
    "# uFuncs and Array Arithmetic\n",
    "- ufuncs make use of Python’s native arithmetic operators. \n",
    "    - Standard addition, subtraction, multiplication, and division can all be used"
   ]
  },
  {
   "cell_type": "code",
   "execution_count": 23,
   "id": "3fddf8b9",
   "metadata": {},
   "outputs": [
    {
     "name": "stdout",
     "output_type": "stream",
     "text": [
      "[0 1 2 3]\n",
      "x     = [0 1 2 3]\n",
      "x + 5 = [5 6 7 8]\n",
      "x - 5 = [-5 -4 -3 -2]\n",
      "x * 2 = [0 2 4 6]\n",
      "x / 2 = [0.  0.5 1.  1.5]\n",
      "x // 2 = [0 0 1 1]\n"
     ]
    }
   ],
   "source": [
    "x = np.arange(4)\n",
    "print(x)\n",
    "print(\"x     =\", x)\n",
    "print(\"x + 5 =\", x + 5)\n",
    "print(\"x - 5 =\", x - 5)\n",
    "print(\"x * 2 =\", x * 2)\n",
    "print(\"x / 2 =\", x / 2)\n",
    "print(\"x // 2 =\", x // 2)"
   ]
  },
  {
   "cell_type": "markdown",
   "id": "2c011546",
   "metadata": {},
   "source": [
    "# uFunc Arithmetic Operators\n",
    "- Arithmetic operations in NumPy are actually wrappers around specific functions built into NumPy\n",
    "- For example, the + operator is a wrapper for the add function"
   ]
  },
  {
   "cell_type": "code",
   "execution_count": 24,
   "id": "5e6b6b96",
   "metadata": {},
   "outputs": [
    {
     "name": "stdout",
     "output_type": "stream",
     "text": [
      "[2 3 4 5]\n"
     ]
    }
   ],
   "source": [
    "print(np.add(x, 2))"
   ]
  },
  {
   "attachments": {},
   "cell_type": "markdown",
   "id": "59036c5c",
   "metadata": {},
   "source": [
    "# uFuncs And Arrays\n",
    "- ufuncs can be used for operations on multiple arrays"
   ]
  },
  {
   "cell_type": "code",
   "execution_count": 25,
   "id": "4ef7c44e",
   "metadata": {},
   "outputs": [
    {
     "name": "stdout",
     "output_type": "stream",
     "text": [
      "[0 1 2 3 4]\n",
      "[1 2 3 4 5]\n",
      "[0.         0.5        0.66666667 0.75       0.8       ]\n",
      "int32\n",
      "float64\n"
     ]
    }
   ],
   "source": [
    "print(np.arange(5))\n",
    "print(np.arange(1, 6))\n",
    "print(np.arange(5) / np.arange(1, 6))\n",
    "print(np.arange(1, 6).dtype)\n",
    "print((np.arange(5) / np.arange(1, 6)).dtype)"
   ]
  },
  {
   "attachments": {},
   "cell_type": "markdown",
   "id": "063f7f5e",
   "metadata": {},
   "source": [
    "# uFuncs And Multi-Dimensional Arrays\n",
    "- ufuncs can be used for operations on multi-dimensional arrays\n"
   ]
  },
  {
   "cell_type": "code",
   "execution_count": 26,
   "id": "18f18c65",
   "metadata": {},
   "outputs": [
    {
     "name": "stdout",
     "output_type": "stream",
     "text": [
      "x:\n",
      " [[0 1 2]\n",
      " [3 4 5]\n",
      " [6 7 8]]\n",
      "2 ** x:\n",
      " [[  1   2   4]\n",
      " [  8  16  32]\n",
      " [ 64 128 256]]\n"
     ]
    }
   ],
   "source": [
    "x = np.arange(9).reshape((3, 3))\n",
    "print('x:\\n', x)\n",
    "print('2 ** x:\\n', 2 ** x)"
   ]
  },
  {
   "attachments": {},
   "cell_type": "markdown",
   "id": "7a479b5b",
   "metadata": {},
   "source": [
    "# Specifying Output\n",
    "- For large calculations, rather than creating a temporary array, you can improve performance by writing computation results directly to a predefined memory location.\n",
    "    - For all ufuncs, you can do this using the out argument of the function"
   ]
  },
  {
   "cell_type": "code",
   "execution_count": 27,
   "id": "4d64d505",
   "metadata": {},
   "outputs": [
    {
     "name": "stdout",
     "output_type": "stream",
     "text": [
      "[0 1 2 3 4]\n",
      "[ 0. 10. 20. 30. 40.]\n"
     ]
    }
   ],
   "source": [
    "x = np.arange(5)\n",
    "y = np.empty(5)\n",
    "print(x)\n",
    "np.multiply(x, 10, out=y)\n",
    "print(y)"
   ]
  },
  {
   "attachments": {},
   "cell_type": "markdown",
   "id": "e22d1d1b",
   "metadata": {},
   "source": [
    "# Specifying Output: Views\n",
    "- The out argument can also be used with array views. \n",
    "    - For example, to write the results of a computation to every other element of a specified array"
   ]
  },
  {
   "cell_type": "code",
   "execution_count": 28,
   "id": "2006f979",
   "metadata": {},
   "outputs": [
    {
     "name": "stdout",
     "output_type": "stream",
     "text": [
      "[0 1 2 3 4]\n",
      "[ 1.  0.  2.  0.  4.  0.  8.  0. 16.  0.]\n"
     ]
    }
   ],
   "source": [
    "y = np.zeros(10)\n",
    "print(x)\n",
    "np.power(2, x, out=y[::2])\n",
    "print(y)"
   ]
  },
  {
   "attachments": {},
   "cell_type": "markdown",
   "id": "e9dc39dc",
   "metadata": {},
   "source": [
    "- Using the more generic expression y[::2] = 2 ** x would have created a temporary array to hold the results of 2 ** x, followed by a second operation copying those values into the y array.\n",
    "- This is fine for a small computation but for very large arrays the memory and performance savings from using the out argument can be significant."
   ]
  },
  {
   "cell_type": "code",
   "execution_count": null,
   "id": "26704222",
   "metadata": {},
   "outputs": [],
   "source": []
  }
 ],
 "metadata": {
  "kernelspec": {
   "display_name": "Python 3 (ipykernel)",
   "language": "python",
   "name": "python3"
  },
  "language_info": {
   "codemirror_mode": {
    "name": "ipython",
    "version": 3
   },
   "file_extension": ".py",
   "mimetype": "text/x-python",
   "name": "python",
   "nbconvert_exporter": "python",
   "pygments_lexer": "ipython3",
   "version": "3.10.4"
  }
 },
 "nbformat": 4,
 "nbformat_minor": 5
}
