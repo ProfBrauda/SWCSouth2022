{
 "cells": [
  {
   "cell_type": "markdown",
   "id": "be1e5c98-4936-4430-b78b-7375d2475560",
   "metadata": {},
   "source": [
    "# Introduction to NumPy\n",
    "-  __NumPy__ (Numerical Python) is pronounced NUM-py or sometimes NUM-pee\n",
    "-  NumPy provides __arrays__ similar to Python __lists__, but with more efficient storage and better performance, \n",
    "particularly as the data grows larger.\n",
    "-  NumPy arrays are the core of data science tools in Python\n",
    "\n",
    "## Installing and Using NumPy\n",
    "### Installing NumPy on Windows 10 using pip:\n",
    "- For an \"all-user\" configuration, run CMDtool as admin user\n",
    "- Navigate to install folder, e.g. assuming Python is installed in C:\\Program Files\\Python\n",
    "\n",
    "     C:\n",
    "     cd \"\\Program Files\\Python\"\n",
    "\n",
    "- Update pip and setuptools first\n",
    "\n",
    "        C:\\Program Files\\Python>python -m pip install --upgrade pip\n",
    "\n",
    "        C:\\Program Files\\Python>pip install --upgrade setuptools\n",
    "\n",
    "        C:\\Program Files\\Python>pip install numpy"
   ]
  },
  {
   "cell_type": "code",
   "execution_count": 2,
   "id": "4c45e794-abd8-4fd2-9050-cecd214f3a62",
   "metadata": {},
   "outputs": [
    {
     "name": "stdout",
     "output_type": "stream",
     "text": [
      "NumPy version is 1.22.3\n"
     ]
    }
   ],
   "source": [
    "# Importing numpy in a program\n",
    "import numpy as np      # alias to np\n",
    "print(\"NumPy version is\", np.__version__)   # version check"
   ]
  },
  {
   "cell_type": "markdown",
   "id": "dee3aae9",
   "metadata": {},
   "source": [
    "## Understanding Data Types in Python\n",
    "- \"Primitive\" data types in Python (integers, floating point values, Booleans) are objects\n",
    "    - Each object consists of an internal C-language structure which includes a reference count, a type encoding, a size attribute, and the actual value\n",
    "    - These attributes make Python a dynamically typed (flexible) language, but also reduce performance\n",
    "- In a Python list, each element is a self-contained object\n",
    "    - When lists contain elements of the same data type, some internal information is redundant\n",
    "    - List elements are randomly distributed throughout memory"
   ]
  },
  {
   "cell_type": "markdown",
   "id": "dc357258",
   "metadata": {},
   "source": [
    "## NumPy N-Dimensional Arrays\n",
    "- A NumPy n-dimensional array (ndarray)  is a fixed-size, multidimensional container of items of the same type and size.\n",
    "    - The number of dimensions and items in an ndarray is defined by its shape, which is a tuple of N non-negative integers that specify the sizes of each dimension.\n",
    "- NumPy arrays store data as a contiguous block for efficiency (\"dense\" arrays).\n",
    "    - The Python array module (Python 3.3 and later) provides a similar structure, but the NumPy ndarray provides additional operations."
   ]
  },
  {
   "cell_type": "markdown",
   "id": "97a2e75a",
   "metadata": {},
   "source": [
    "## NumPy Arrays vs. Python Lists"
   ]
  },
  {
   "cell_type": "markdown",
   "id": "953552b8",
   "metadata": {},
   "source": [
    "<img src=\"images/SWC22-NumPy.python-list.numpy-array.png\" align = \"left\" width=300 height=300 />"
   ]
  },
  {
   "cell_type": "markdown",
   "id": "544e397a",
   "metadata": {},
   "source": [
    "<img src=\"images/SWC22-NumPy.python-list.png\" align = \"left\" width=400 height=400 />"
   ]
  },
  {
   "cell_type": "markdown",
   "id": "7c56a07c",
   "metadata": {},
   "source": [
    "# Creating NumPy Arrays from Lists\n",
    "- ndarrays can be created from Python lists"
   ]
  },
  {
   "cell_type": "code",
   "execution_count": 3,
   "id": "9d00bd02",
   "metadata": {},
   "outputs": [
    {
     "name": "stdout",
     "output_type": "stream",
     "text": [
      "[1 4 2 5 3]\n",
      "[3.14 4.   2.   3.  ]\n",
      "[1. 2. 3. 4.]\n",
      "[[2 3 4]\n",
      " [4 5 6]\n",
      " [6 7 8]]\n"
     ]
    }
   ],
   "source": [
    "# integer array:\n",
    "npa = np.array([1, 4, 2, 5, 3])\n",
    "print(npa)\n",
    "\n",
    "# upcast integers to float\n",
    "npa = np.array([3.14, 4, 2, 3])\n",
    "print(npa)\n",
    "\n",
    "# specify array element type\n",
    "npa = np.array([1, 2, 3, 4], dtype='float32')\n",
    "print(npa)\n",
    "\n",
    "# multidimensional array using list of lists\n",
    "npa = np.array([range(i, i + 3) for i in [2, 4, 6]])\n",
    "print(npa)"
   ]
  },
  {
   "cell_type": "markdown",
   "id": "69f59c5e",
   "metadata": {},
   "source": [
    "# Creating NumPy Arrays from Scratch\n",
    "- NumPy provides optimized functions to create ndarrays"
   ]
  },
  {
   "cell_type": "code",
   "execution_count": 4,
   "id": "9365e0d6",
   "metadata": {},
   "outputs": [
    {
     "name": "stdout",
     "output_type": "stream",
     "text": [
      "[0 0 0 0 0 0 0 0 0 0]\n",
      "[[1. 1. 1. 1. 1.]\n",
      " [1. 1. 1. 1. 1.]\n",
      " [1. 1. 1. 1. 1.]]\n",
      "[[3.14 3.14 3.14 3.14 3.14]\n",
      " [3.14 3.14 3.14 3.14 3.14]\n",
      " [3.14 3.14 3.14 3.14 3.14]]\n",
      "[ 0  2  4  6  8 10 12 14 16 18]\n"
     ]
    }
   ],
   "source": [
    "# create a 10-integer array filled with zeros\n",
    "npa = np.zeros(10, dtype=int)\n",
    "print(npa)\n",
    "\n",
    "# create a 3x5 floating point array filled with ones\n",
    "npa = np.ones((3,5), dtype=float)\n",
    "print(npa)\n",
    "\n",
    "# create a 3x5 array filled with 3.14\n",
    "npa = np.full((3,5), 3.14)\n",
    "print(npa)\n",
    "\n",
    "# create an array filled with a linear sequence\n",
    "# starting at 0, ending at 20, stepping by 2\n",
    "# (similar to built-in range() function)\n",
    "npa = np.arange(0, 20, 2)\n",
    "print(npa)"
   ]
  },
  {
   "cell_type": "code",
   "execution_count": 5,
   "id": "e2451cb7",
   "metadata": {},
   "outputs": [
    {
     "name": "stdout",
     "output_type": "stream",
     "text": [
      "[[0.5537605  0.58109005 0.2298685 ]\n",
      " [0.97531526 0.10335587 0.10618689]\n",
      " [0.40293844 0.8536779  0.74357141]]\n",
      "[[-0.37708185 -2.46004435  2.25021156]\n",
      " [ 0.86053277 -1.87805351  1.38797626]\n",
      " [-1.60617902  0.21097215  1.31536323]]\n"
     ]
    }
   ],
   "source": [
    "# create a 3x3 array of uniformly distributed\n",
    "# random values between 0 and 1\n",
    "npa = np.random.random((3,3))\n",
    "print(npa)\n",
    "\n",
    "# create a 3x3 array of normally distributed random\n",
    "# values with mean 0 and standard deviation 1\n",
    "npa = np.random.normal(0,1,(3,3))\n",
    "print(npa)"
   ]
  },
  {
   "cell_type": "markdown",
   "id": "cb7f228b",
   "metadata": {},
   "source": [
    "# NumPy Standard Data Types\n",
    "<img src=\"images/SWC22-NumPy.standard-data-types.png\" align = \"left\" width=400 height=400 />"
   ]
  },
  {
   "cell_type": "markdown",
   "id": "15eaa279",
   "metadata": {},
   "source": [
    "# NumPy Array Operations\n",
    "- NumPy array operations are critical to many Data Science packages\n",
    "- Array operations include\n",
    "    - accessing attributes: determining size, shape, memory usage, and data types\n",
    "    - indexing: getting/setting individual array element values\n",
    "    - slicing: getting/setting subarrays\n",
    "    - reshaping: changing an array's shape\n",
    "    - joining/splitting: combining multiple arrays into one, split one array into multiple"
   ]
  },
  {
   "cell_type": "markdown",
   "id": "6f3a26e3",
   "metadata": {},
   "source": [
    "# NumPy Array Attributes\n",
    "\n",
    "- Useful attributes of NumPy arrays:\n",
    "    - ndim: number of dimensions\n",
    "    - shape: size of each dimension\n",
    "    - size: total size of the array (number of elements)\n",
    "    - dtype: data type\n",
    "    - itemsize: size in bytes of one array element\n",
    "    - nbytes: total size of array in bytes (itemsize * size)\n"
   ]
  },
  {
   "cell_type": "markdown",
   "id": "66b084d8",
   "metadata": {},
   "source": [
    "# Displaying NumPy Array Attributes\n",
    "- Let's use a simple NumPy function to demonstrate how to display an array's attributes:\n",
    "    - The **random.randint** function creates a NumPy array of random integers as part of a uniform distribution (probability of all values is the same)"
   ]
  },
  {
   "cell_type": "code",
   "execution_count": 6,
   "id": "8f067463",
   "metadata": {},
   "outputs": [
    {
     "name": "stdout",
     "output_type": "stream",
     "text": [
      "[7 2 3 2 7]\n",
      "1\n",
      "(5,)\n",
      "5\n",
      "int32\n",
      "4\n",
      "20\n"
     ]
    }
   ],
   "source": [
    "dist = np.random.randint(low=1, high=10, size=5, dtype='l')\n",
    "print(dist)\n",
    "print(dist.ndim)\n",
    "print(dist.shape)\n",
    "print(dist.size)\n",
    "print(dist.dtype)\n",
    "print(dist.itemsize)\n",
    "print(dist.nbytes)"
   ]
  },
  {
   "cell_type": "markdown",
   "id": "60647f68",
   "metadata": {},
   "source": [
    "# 2D NumPy Array Attributes\n",
    "- The following examples demonstrate the array attributes of various types of NumPy arrays"
   ]
  },
  {
   "cell_type": "code",
   "execution_count": 7,
   "id": "9f353f8f",
   "metadata": {},
   "outputs": [
    {
     "name": "stdout",
     "output_type": "stream",
     "text": [
      "x1: \n",
      "[5 0 3 3 7 9]\n",
      "x1 ndim:  1\n",
      "x1 shape:  (6,)\n",
      "x1 size:  6\n",
      "x2: \n",
      "[[3 5 2 4]\n",
      " [7 6 8 8]\n",
      " [1 6 7 7]]\n",
      "x2 ndim:  2\n",
      "x2 shape:  (3, 4)\n",
      "x2 size:  12\n",
      "x3: \n",
      "[[[8 1 5 9 8]\n",
      "  [9 4 3 0 3]\n",
      "  [5 0 2 3 8]\n",
      "  [1 3 3 3 7]]\n",
      "\n",
      " [[0 1 9 9 0]\n",
      "  [4 7 3 2 7]\n",
      "  [2 0 0 4 5]\n",
      "  [5 6 8 4 1]]\n",
      "\n",
      " [[4 9 8 1 1]\n",
      "  [7 9 9 3 6]\n",
      "  [7 2 0 3 5]\n",
      "  [9 4 4 6 4]]]\n",
      "x3 ndim:  3\n",
      "x3 shape:  (3, 4, 5)\n",
      "x3 size:  60\n"
     ]
    }
   ],
   "source": [
    "np.random.seed(0) # seed random generator\n",
    "x1 = np.random.randint(10, size=6)\n",
    "x2 = np.random.randint(10, size=(3,4))\n",
    "x3 = np.random.randint(10, size=(3,4,5))\n",
    "\n",
    "print(\"x1: \")\n",
    "print(x1)\n",
    "\n",
    "print(\"x1 ndim: \", x1.ndim)\n",
    "print(\"x1 shape: \", x1.shape)\n",
    "print(\"x1 size: \", x1.size)\n",
    "\n",
    "print(\"x2: \")\n",
    "print(x2)\n",
    "\n",
    "print(\"x2 ndim: \", x2.ndim)\n",
    "print(\"x2 shape: \", x2.shape)\n",
    "print(\"x2 size: \", x2.size)\n",
    "\n",
    "print(\"x3: \")\n",
    "print(x3)\n",
    "\n",
    "print(\"x3 ndim: \", x3.ndim)\n",
    "print(\"x3 shape: \", x3.shape)\n",
    "print(\"x3 size: \", x3.size)"
   ]
  },
  {
   "cell_type": "markdown",
   "id": "9ac3a670",
   "metadata": {},
   "source": [
    "# Array Indexing: Single Element, Single Dimension\n",
    "- NumPy array indexing is similar to Python list indexing, both for accessing and setting single elements"
   ]
  },
  {
   "cell_type": "code",
   "execution_count": 8,
   "id": "d9772995",
   "metadata": {},
   "outputs": [
    {
     "name": "stdout",
     "output_type": "stream",
     "text": [
      "x1 =  [4 3 4 4 8 4]\n",
      "x1[0] =  4\n",
      "x1[4] =  8\n",
      "x1[-1] =  4\n",
      "x1[-2] =  8\n",
      "x1[1] =  3\n",
      "x1 =  [4 3 4 4 8 4]\n"
     ]
    }
   ],
   "source": [
    "x1 = np.random.randint(10, size=6)\n",
    "print(\"x1 = \", x1)\n",
    "print(\"x1[0] = \", x1[0])\n",
    "print(\"x1[4] = \", x1[4])\n",
    "print(\"x1[-1] = \", x1[-1])\n",
    "print(\"x1[-2] = \", x1[-2])\n",
    "x1[1] = 3.14159 # will truncate\n",
    "print(\"x1[1] = \", x1[1])\n",
    "print(\"x1 = \", x1)"
   ]
  },
  {
   "cell_type": "markdown",
   "id": "f8e5a432",
   "metadata": {},
   "source": [
    "# Array Indexing: Single Element, Multi-Dimension"
   ]
  },
  {
   "cell_type": "code",
   "execution_count": 9,
   "id": "1c993947",
   "metadata": {},
   "outputs": [
    {
     "name": "stdout",
     "output_type": "stream",
     "text": [
      "x2 = \n",
      " [[3 7 5 5]\n",
      " [0 1 5 9]\n",
      " [3 0 5 0]]\n",
      "\n",
      "x2[0,0] =  3\n",
      "x2[2,0] =  3\n",
      "x2[2,-1] =  0\n"
     ]
    }
   ],
   "source": [
    "x2 = np.random.randint(10, size=(3,4))\n",
    "print(\"x2 = \\n\", x2)\n",
    "print()\n",
    "print(\"x2[0,0] = \", x2[0,0])\n",
    "print(\"x2[2,0] = \", x2[2,0])\n",
    "print(\"x2[2,-1] = \", x2[2,-1])\n"
   ]
  },
  {
   "cell_type": "markdown",
   "id": "903abbf5",
   "metadata": {},
   "source": [
    "# Array Slicing: One Dimension\n",
    "- NumPy slicing syntax follows that of the standard Python list\n",
    "- To access a slice of an array x, use x[start:stop:step]\n",
    "    - If any of these are unspecified, they default to the values\n",
    "          start=0, stop=(size of dimension), step=1"
   ]
  },
  {
   "cell_type": "code",
   "execution_count": 10,
   "id": "fc9f4b23",
   "metadata": {},
   "outputs": [
    {
     "name": "stdout",
     "output_type": "stream",
     "text": [
      "x1 =  [4 3 4 4 8 4]\n",
      "x1[:3] =  [4 3 4]\n",
      "x1[3:] =  [4 8 4]\n",
      "x1[2:5] =  [4 4 8]\n",
      "x1[::2] =  [4 4 8]\n",
      "x1[::-1] =  [4 8 4 4 3 4]\n"
     ]
    }
   ],
   "source": [
    "# slicing\n",
    "print(\"x1 = \", x1)\n",
    "print(\"x1[:3] = \", x1[:3])    # up to index 3 (excl)\n",
    "print(\"x1[3:] = \", x1[3:])    # start at index 3\n",
    "print(\"x1[2:5] = \", x1[2:5])  # element index 2 - 4\n",
    "print(\"x1[::2] = \", x1[::2])  # every other element\n",
    "print(\"x1[::-1] = \", x1[::-1]) # reverse all"
   ]
  },
  {
   "cell_type": "markdown",
   "id": "7891caa0",
   "metadata": {},
   "source": [
    "# Array Slicing: Multi-Dimension\n",
    "- Multiple-dimension slices are separated by commas"
   ]
  },
  {
   "cell_type": "code",
   "execution_count": 11,
   "id": "48b25340",
   "metadata": {},
   "outputs": [
    {
     "name": "stdout",
     "output_type": "stream",
     "text": [
      "x2 = \n",
      " [[3 7 5 5]\n",
      " [0 1 5 9]\n",
      " [3 0 5 0]]\n",
      "x2[:2,:3] = \n",
      " [[3 7 5]\n",
      " [0 1 5]]\n",
      "x2[:3,::2] = \n",
      " [[3 5]\n",
      " [0 5]\n",
      " [3 5]]\n",
      "x2[::-1,::-1] = \n",
      " [[0 5 0 3]\n",
      " [9 5 1 0]\n",
      " [5 5 7 3]]\n"
     ]
    }
   ],
   "source": [
    "# multi-slicing\n",
    "print(\"x2 = \\n\", x2)\n",
    "print(\"x2[:2,:3] = \\n\", x2[:2, :3]) # 2 rows, 3 columns\n",
    "print(\"x2[:3,::2] = \\n\", x2[:3, ::2]) # all rows, every other column\n",
    "print(\"x2[::-1,::-1] = \\n\", x2[::-1, ::-1]) # reverse rows and columns"
   ]
  },
  {
   "cell_type": "markdown",
   "id": "7a50f9c7",
   "metadata": {},
   "source": [
    "# Accessing Array Rows and Columns\n",
    "- Combine indexing and slicing to access an entire row or column"
   ]
  },
  {
   "cell_type": "code",
   "execution_count": 12,
   "id": "a0c0d06a",
   "metadata": {},
   "outputs": [
    {
     "name": "stdout",
     "output_type": "stream",
     "text": [
      "x2 =\n",
      " [[3 7 5 5]\n",
      " [0 1 5 9]\n",
      " [3 0 5 0]]\n",
      "x2[:,0] [3 0 3]\n",
      "x2[0,:] [3 7 5 5]\n",
      "x2[0] [3 7 5 5]\n"
     ]
    }
   ],
   "source": [
    "print(\"x2 =\\n\", x2)\n",
    "print(\"x2[:,0]\", x2[:, 0])  # first column\n",
    "print(\"x2[0,:]\", x2[0, :])  # first row\n",
    "print(\"x2[0]\", x2[0])     # first row (can omit : for row)"
   ]
  },
  {
   "attachments": {},
   "cell_type": "markdown",
   "id": "4509b7dd",
   "metadata": {},
   "source": [
    "# NumPy Arrays as Views\n",
    "- In contrast to lists, which slice as *copies*, numpy arrays slice as *views*\n",
    "    - Modifications to a numpy array slice modifies original data in place vs.  modifying a copy of the data, improving performance\n",
    "    - Use array.copy() as necessary, e.g. to back up original data"
   ]
  },
  {
   "cell_type": "code",
   "execution_count": 13,
   "id": "d1c211a9",
   "metadata": {},
   "outputs": [
    {
     "name": "stdout",
     "output_type": "stream",
     "text": [
      "x2 = \n",
      "[[3 7 5 5]\n",
      " [0 1 5 9]\n",
      " [3 0 5 0]]\n",
      "x2_sub (sliced as x2[:2, :2]) = \n",
      "[[3 7]\n",
      " [0 1]]\n",
      "x2_sub modified first element:\n",
      "[[99  7]\n",
      " [ 0  1]]\n",
      "x2 was also modified:\n",
      "[[99  7  5  5]\n",
      " [ 0  1  5  9]\n",
      " [ 3  0  5  0]]\n"
     ]
    }
   ],
   "source": [
    "print('x2 = ')\n",
    "print(x2)\n",
    "x2bak = x2.copy()    # back up x2\n",
    "x2_sub = x2[:2, :2]  # slice x2 into x2_sub\n",
    "print('x2_sub (sliced as x2[:2, :2]) = ')\n",
    "print(x2_sub)\n",
    "x2_sub[0, 0]= 99     # modify x2_sub\n",
    "print('x2_sub modified first element:')\n",
    "print(x2_sub)\n",
    "print('x2 was also modified:')\n",
    "print(x2)\n",
    "x2 = x2bak.copy()    # restore original x2"
   ]
  },
  {
   "cell_type": "markdown",
   "id": "c37c3e7d",
   "metadata": {},
   "source": [
    "# Reshaping Arrays\n",
    "- The reshape() function gives a new shape to an array without changing its data.\n",
    "    - The size of the initial array must match the size of the reshaped array"
   ]
  },
  {
   "cell_type": "code",
   "execution_count": 16,
   "id": "0ffe476a",
   "metadata": {},
   "outputs": [
    {
     "name": "stdout",
     "output_type": "stream",
     "text": [
      "r =  [1 2 3 4 5 6 7 8 9]\n",
      "grid = \n",
      "[[1 2 3]\n",
      " [4 5 6]\n",
      " [7 8 9]]\n",
      "ndim: 2 , shape: (3, 3)\n"
     ]
    }
   ],
   "source": [
    "# reshape 1D to 2D (3x3)\n",
    "r = np.arange(1, 10)\n",
    "print(\"r = \", r)\n",
    "grid = r.reshape((3, 3))\n",
    "print(\"grid = \")\n",
    "print(grid)\n",
    "print('ndim:', grid.ndim, ', shape:', grid.shape)"
   ]
  },
  {
   "cell_type": "code",
   "execution_count": 20,
   "id": "65ad75c2",
   "metadata": {},
   "outputs": [
    {
     "name": "stdout",
     "output_type": "stream",
     "text": [
      "reshape a 1x3 array as 3x1:\n",
      "x ndim: 1 , shape: (3,)\n",
      "y ndim: 2 , shape: (3, 1)\n",
      "[[1]\n",
      " [2]\n",
      " [3]]\n"
     ]
    }
   ],
   "source": [
    "# convert 1D array to 2D (3x1)\n",
    "print('reshape a 1x3 array as 3x1:')\n",
    "x = np.array([1, 2, 3])\n",
    "print('x ndim:', x.ndim, ', shape:', x.shape)\n",
    "\n",
    "y = x.reshape(3, 1)\n",
    "print('y ndim:', y.ndim, ', shape:', y.shape)\n",
    "print(y)"
   ]
  },
  {
   "attachments": {},
   "cell_type": "markdown",
   "id": "49fad9bc",
   "metadata": {},
   "source": [
    "# NumPy Arrays vs. Matrices\n",
    "- You will see references to matrices in NumPy operations\n",
    "    - Note the distinction between an array and a matrix:\n",
    "        - **array**\n",
    "          A homogeneous n-dimensional container (ndarray) of numerical elements\n",
    "        - **matrix**\n",
    "          A 2-dimensional ndarray that preserves its two-dimensional nature throughout operations. It has certain special operations, such as * (matrix multiplication) and ** (matrix power)"
   ]
  },
  {
   "cell_type": "code",
   "execution_count": null,
   "id": "124dbafa",
   "metadata": {},
   "outputs": [],
   "source": []
  }
 ],
 "metadata": {
  "kernelspec": {
   "display_name": "Python 3 (ipykernel)",
   "language": "python",
   "name": "python3"
  },
  "language_info": {
   "codemirror_mode": {
    "name": "ipython",
    "version": 3
   },
   "file_extension": ".py",
   "mimetype": "text/x-python",
   "name": "python",
   "nbconvert_exporter": "python",
   "pygments_lexer": "ipython3",
   "version": "3.10.4"
  }
 },
 "nbformat": 4,
 "nbformat_minor": 5
}
