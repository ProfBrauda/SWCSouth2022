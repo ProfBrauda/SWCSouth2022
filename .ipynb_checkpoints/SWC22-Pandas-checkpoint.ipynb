{
 "cells": [
  {
   "attachments": {},
   "cell_type": "markdown",
   "id": "a3b64bde",
   "metadata": {},
   "source": [
    "# Manipulating Data With Pandas <img src=\"images/SWC22-Pandas.PythonPandasLogo.jpg\" align = \"right\" width=200 height=200/>\n",
    "- Pandas is a data analysis library built on top of NumPy.\n",
    "- Pandas provides data structures and operations for manipulating data using DataFrames\n",
    "- DataFrames are multidimensional arrays with attached row and column labels.\n",
    "- DataFrames can include heterogeneous types and/or missing data.\n",
    "- Pandas also provides functions for handling data in a similar fashion to database frameworks and spreadsheet programs.\n",
    "\n"
   ]
  },
  {
   "cell_type": "code",
   "execution_count": 3,
   "id": "fb5799a3",
   "metadata": {},
   "outputs": [
    {
     "name": "stdout",
     "output_type": "stream",
     "text": [
      "Pandas version is 1.4.2\n"
     ]
    }
   ],
   "source": [
    "# use NumPy and Pandas\n",
    "import numpy as np\n",
    "import pandas as pd\n",
    "print(\"Pandas version is\", pd.__version__)"
   ]
  },
  {
   "cell_type": "markdown",
   "id": "0a934cef",
   "metadata": {},
   "source": []
  },
  {
   "cell_type": "code",
   "execution_count": null,
   "id": "a9c25a84",
   "metadata": {},
   "outputs": [],
   "source": []
  }
 ],
 "metadata": {
  "kernelspec": {
   "display_name": "Python 3 (ipykernel)",
   "language": "python",
   "name": "python3"
  },
  "language_info": {
   "codemirror_mode": {
    "name": "ipython",
    "version": 3
   },
   "file_extension": ".py",
   "mimetype": "text/x-python",
   "name": "python",
   "nbconvert_exporter": "python",
   "pygments_lexer": "ipython3",
   "version": "3.10.4"
  }
 },
 "nbformat": 4,
 "nbformat_minor": 5
}
