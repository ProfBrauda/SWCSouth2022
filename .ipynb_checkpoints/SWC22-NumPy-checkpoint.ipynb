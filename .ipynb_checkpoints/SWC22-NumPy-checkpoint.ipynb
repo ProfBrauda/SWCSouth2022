{
 "cells": [
  {
   "cell_type": "markdown",
   "id": "be1e5c98-4936-4430-b78b-7375d2475560",
   "metadata": {},
   "source": [
    "# Introduction to NumPy\n",
    "-  __NumPy__ (Numerical Python) is pronounced NUM-py or sometimes NUM-pee\n",
    "-  NumPy provides __arrays__ similar to Python __lists__, but with more efficient storage and better performance, \n",
    "particularly as the data grows larger.\n",
    "-  NumPy arrays are the core of data science tools in Python\n",
    "\n",
    "## Installing and Using NumPy\n",
    "### Installing NumPy on Windows 10 using pip:\n",
    "- For an \"all-user\" configuration, run CMDtool as admin user\n",
    "- Navigate to install folder, e.g. assuming Python is installed in C:\\Program Files\\Python\n",
    "\n",
    "     C:\n",
    "     cd \"\\Program Files\\Python\"\n",
    "\n",
    "- Update pip and setuptools first\n",
    "\n",
    "        C:\\Program Files\\Python>python -m pip install --upgrade pip\n",
    "\n",
    "        C:\\Program Files\\Python>pip install --upgrade setuptools\n",
    "\n",
    "        C:\\Program Files\\Python>pip install numpy"
   ]
  },
  {
   "cell_type": "code",
   "execution_count": 1,
   "id": "4c45e794-abd8-4fd2-9050-cecd214f3a62",
   "metadata": {},
   "outputs": [
    {
     "name": "stdout",
     "output_type": "stream",
     "text": [
      "1.22.3\n"
     ]
    }
   ],
   "source": [
    "# Importing numpy in a program\n",
    "import numpy as np      # alias to np\n",
    "print(np.__version__)   # version check"
   ]
  },
  {
   "cell_type": "markdown",
   "id": "dee3aae9",
   "metadata": {},
   "source": [
    "## Understanding Data Types in Python\n",
    "- \"Primitive\" data types in Python (integers, floating point values, Booleans) are objects\n",
    "    - Each object consists of an internal C-language structure which includes a reference count, a type encoding, a size attribute, and the actual value\n",
    "    - These attributes make Python a dynamically typed (flexible) language, but also reduce performance\n",
    "- In a Python list, each element is a self-contained object\n",
    "    - When lists contain elements of the same data type, some internal information is redundant\n",
    "    - List elements are randomly distributed throughout memory"
   ]
  },
  {
   "cell_type": "markdown",
   "id": "dc357258",
   "metadata": {},
   "source": [
    "## NumPy N-Dimensional Arrays\n",
    "- A NumPy n-dimensional array (ndarray)  is a fixed-size, multidimensional container of items of the same type and size.\n",
    "    - The number of dimensions and items in an ndarray is defined by its shape, which is a tuple of N non-negative integers that specify the sizes of each dimension.\n",
    "- NumPy arrays store data as a contiguous block for efficiency (\"dense\" arrays).\n",
    "    - The Python array module (Python 3.3 and later) provides a similar structure, but the NumPy ndarray provides additional operations."
   ]
  },
  {
   "cell_type": "markdown",
   "id": "97a2e75a",
   "metadata": {},
   "source": [
    "## NumPy Arrays vs. Python Lists"
   ]
  },
  {
   "cell_type": "markdown",
   "id": "953552b8",
   "metadata": {},
   "source": [
    "<img src=\"images/SWC22-NumPy.python-list.numpy-array.png\" align = \"left\" width=300 height=300 />"
   ]
  },
  {
   "cell_type": "markdown",
   "id": "544e397a",
   "metadata": {},
   "source": [
    "<img src=\"images/SWC22-NumPy.python-list.png\" align = \"left\" width=400 height=400 />"
   ]
  },
  {
   "cell_type": "markdown",
   "id": "7c56a07c",
   "metadata": {},
   "source": [
    "# Creating NumPy Arrays from Lists\n",
    "- ndarrays can be created from Python lists"
   ]
  },
  {
   "cell_type": "code",
   "execution_count": 2,
   "id": "9d00bd02",
   "metadata": {},
   "outputs": [
    {
     "name": "stdout",
     "output_type": "stream",
     "text": [
      "[1 4 2 5 3]\n",
      "[3.14 4.   2.   3.  ]\n",
      "[1. 2. 3. 4.]\n",
      "[[2 3 4]\n",
      " [4 5 6]\n",
      " [6 7 8]]\n"
     ]
    }
   ],
   "source": [
    "# integer array:\n",
    "npa = np.array([1, 4, 2, 5, 3])\n",
    "print(npa)\n",
    "\n",
    "# upcast integers to float\n",
    "npa = np.array([3.14, 4, 2, 3])\n",
    "print(npa)\n",
    "\n",
    "# specify array element type\n",
    "npa = np.array([1, 2, 3, 4], dtype='float32')\n",
    "print(npa)\n",
    "\n",
    "# multidimensional array using list of lists\n",
    "npa = np.array([range(i, i + 3) for i in [2, 4, 6]])\n",
    "print(npa)"
   ]
  },
  {
   "cell_type": "markdown",
   "id": "69f59c5e",
   "metadata": {},
   "source": [
    "# Creating NumPy Arrays from Scratch\n",
    "- NumPy provides optimized functions to create ndarrays"
   ]
  },
  {
   "cell_type": "code",
   "execution_count": 3,
   "id": "9365e0d6",
   "metadata": {},
   "outputs": [
    {
     "name": "stdout",
     "output_type": "stream",
     "text": [
      "[0 0 0 0 0 0 0 0 0 0]\n",
      "[[1. 1. 1. 1. 1.]\n",
      " [1. 1. 1. 1. 1.]\n",
      " [1. 1. 1. 1. 1.]]\n",
      "[[3.14 3.14 3.14 3.14 3.14]\n",
      " [3.14 3.14 3.14 3.14 3.14]\n",
      " [3.14 3.14 3.14 3.14 3.14]]\n",
      "[ 0  2  4  6  8 10 12 14 16 18]\n"
     ]
    }
   ],
   "source": [
    "# create a 10-integer array filled with zeros\n",
    "npa = np.zeros(10, dtype=int)\n",
    "print(npa)\n",
    "\n",
    "# create a 3x5 floating point array filled with ones\n",
    "npa = np.ones((3,5), dtype=float)\n",
    "print(npa)\n",
    "\n",
    "# create a 3x5 array filled with 3.14\n",
    "npa = np.full((3,5), 3.14)\n",
    "print(npa)\n",
    "\n",
    "# create an array filled with a linear sequence\n",
    "# starting at 0, ending at 20, stepping by 2\n",
    "# (similar to built-in range() function)\n",
    "npa = np.arange(0, 20, 2)\n",
    "print(npa)"
   ]
  },
  {
   "cell_type": "code",
   "execution_count": 4,
   "id": "e2451cb7",
   "metadata": {},
   "outputs": [
    {
     "name": "stdout",
     "output_type": "stream",
     "text": [
      "[[0.18476143 0.96209666 0.24856282]\n",
      " [0.48487297 0.67461359 0.61830396]\n",
      " [0.40193955 0.41013646 0.92281321]]\n",
      "[[ 0.15010243 -0.84772999  0.11184727]\n",
      " [-0.85181214 -0.03137006  0.65787671]\n",
      " [ 0.21320167  0.65125542  0.01929698]]\n"
     ]
    }
   ],
   "source": [
    "# create a 3x3 array of uniformly distributed\n",
    "# random values between 0 and 1\n",
    "npa = np.random.random((3,3))\n",
    "print(npa)\n",
    "\n",
    "# create a 3x3 array of normally distributed random\n",
    "# values with mean 0 and standard deviation 1\n",
    "npa = np.random.normal(0,1,(3,3))\n",
    "print(npa)"
   ]
  },
  {
   "cell_type": "markdown",
   "id": "cb7f228b",
   "metadata": {},
   "source": [
    "# NumPy Standard Data Types\n",
    "<img src=\"images/SWC22-NumPy.standard-data-types.png\" align = \"left\" width=400 height=400 />"
   ]
  },
  {
   "cell_type": "markdown",
   "id": "15eaa279",
   "metadata": {},
   "source": [
    "# NumPy Array Operations\n",
    "- NumPy array operations are critical to many Data Science packages\n",
    "- Array operations include\n",
    "    - accessing attributes: determining size, shape, memory usage, and data types\n",
    "    - indexing: getting/setting individual array element values\n",
    "    - slicing: getting/setting subarrays\n",
    "    - reshaping: changing an array's shape\n",
    "    - joining/splitting: combining multiple arrays into one, split one array into multiple"
   ]
  },
  {
   "cell_type": "markdown",
   "id": "6f3a26e3",
   "metadata": {},
   "source": [
    "# NumPy Array Attributes\n",
    "\n",
    "- Useful attributes of NumPy arrays:\n",
    "    - ndim: number of dimensions\n",
    "    - shape: size of each dimension\n",
    "    - size: total size of the array (number of elements)\n",
    "    - dtype: data type\n",
    "    - itemsize: size in bytes of one array element\n",
    "    - nbytes: total size of array in bytes (itemsize * size)\n"
   ]
  },
  {
   "cell_type": "markdown",
   "id": "66b084d8",
   "metadata": {},
   "source": [
    "# Displaying NumPy Array Attributes\n",
    "- Let's use a simple NumPy function to demonstrate how to display an array's attributes:\n",
    "    - The **random.randint** function creates a NumPy array of random integers as part of a uniform distribution (probability of all values is the same)"
   ]
  },
  {
   "cell_type": "code",
   "execution_count": 5,
   "id": "8f067463",
   "metadata": {},
   "outputs": [
    {
     "name": "stdout",
     "output_type": "stream",
     "text": [
      "[4 3 7 9 7]\n",
      "1\n",
      "(5,)\n",
      "5\n",
      "int32\n",
      "4\n",
      "20\n"
     ]
    }
   ],
   "source": [
    "dist = np.random.randint(low=1, high=10, size=5, dtype='l')\n",
    "print(dist)\n",
    "print(dist.ndim)\n",
    "print(dist.shape)\n",
    "print(dist.size)\n",
    "print(dist.dtype)\n",
    "print(dist.itemsize)\n",
    "print(dist.nbytes)"
   ]
  },
  {
   "cell_type": "markdown",
   "id": "60647f68",
   "metadata": {},
   "source": [
    "# 2D Array Attributes\n",
    "- The following examples demonstrate the array attributes of various types of NumPy arrays"
   ]
  },
  {
   "cell_type": "code",
   "execution_count": 6,
   "id": "9f353f8f",
   "metadata": {},
   "outputs": [
    {
     "name": "stdout",
     "output_type": "stream",
     "text": [
      "x1: \n",
      "[5 0 3 3 7 9]\n",
      "x1 ndim:  1\n",
      "x1 shape:  (6,)\n",
      "x1 size:  6\n",
      "x2: \n",
      "[[3 5 2 4]\n",
      " [7 6 8 8]\n",
      " [1 6 7 7]]\n",
      "x2 ndim:  2\n",
      "x2 shape:  (3, 4)\n",
      "x2 size:  12\n",
      "x3: \n",
      "[[[8 1 5 9 8]\n",
      "  [9 4 3 0 3]\n",
      "  [5 0 2 3 8]\n",
      "  [1 3 3 3 7]]\n",
      "\n",
      " [[0 1 9 9 0]\n",
      "  [4 7 3 2 7]\n",
      "  [2 0 0 4 5]\n",
      "  [5 6 8 4 1]]\n",
      "\n",
      " [[4 9 8 1 1]\n",
      "  [7 9 9 3 6]\n",
      "  [7 2 0 3 5]\n",
      "  [9 4 4 6 4]]]\n",
      "x3 ndim:  3\n",
      "x3 shape:  (3, 4, 5)\n",
      "x3 size:  60\n"
     ]
    }
   ],
   "source": [
    "np.random.seed(0) # seed random generator\n",
    "x1 = np.random.randint(10, size=6)\n",
    "x2 = np.random.randint(10, size=(3,4))\n",
    "x3 = np.random.randint(10, size=(3,4,5))\n",
    "\n",
    "print(\"x1: \")\n",
    "print(x1)\n",
    "\n",
    "print(\"x1 ndim: \", x1.ndim)\n",
    "print(\"x1 shape: \", x1.shape)\n",
    "print(\"x1 size: \", x1.size)\n",
    "\n",
    "print(\"x2: \")\n",
    "print(x2)\n",
    "\n",
    "print(\"x2 ndim: \", x2.ndim)\n",
    "print(\"x2 shape: \", x2.shape)\n",
    "print(\"x2 size: \", x2.size)\n",
    "\n",
    "print(\"x3: \")\n",
    "print(x3)\n",
    "\n",
    "print(\"x3 ndim: \", x3.ndim)\n",
    "print(\"x3 shape: \", x3.shape)\n",
    "print(\"x3 size: \", x3.size)"
   ]
  },
  {
   "cell_type": "code",
   "execution_count": null,
   "id": "312f53b8",
   "metadata": {},
   "outputs": [],
   "source": []
  }
 ],
 "metadata": {
  "kernelspec": {
   "display_name": "Python 3 (ipykernel)",
   "language": "python",
   "name": "python3"
  },
  "language_info": {
   "codemirror_mode": {
    "name": "ipython",
    "version": 3
   },
   "file_extension": ".py",
   "mimetype": "text/x-python",
   "name": "python",
   "nbconvert_exporter": "python",
   "pygments_lexer": "ipython3",
   "version": "3.10.4"
  }
 },
 "nbformat": 4,
 "nbformat_minor": 5
}
